{
 "cells": [
  {
   "cell_type": "markdown",
   "id": "ec8b55a0",
   "metadata": {},
   "source": [
    "# Machine Learning Models applied to student Drop Out data¶"
   ]
  },
  {
   "cell_type": "markdown",
   "id": "985c1ee5",
   "metadata": {},
   "source": []
  },
  {
   "cell_type": "markdown",
   "id": "fb97904f",
   "metadata": {},
   "source": [
    "## Data access\n",
    "- from: https://www.kaggle.com/datasets/thedevastator/higher-education-predictors-of-student-retention\n",
    "- Creating an account, logging in\n",
    "- downloading a zip file, ‘archive.zip’, \n",
    "- the extracted file was called, dataset.csv’\n",
    "- copy 'dataset.csv' to the location of this notebook\n",
    "\n",
    "The official data repository is zenodo and can be cited as: Valentim Realinho, Jorge Machado, Luís Baptista, & Mónica V. Martins. (2021). Predict students' dropout and academic success (1.0) [Data set]. Zenodo. https://doi.org/10.5281/zenodo.5777340\n",
    "\n",
    "\n",
    "## Data exploration\n",
    "\n",
    "### MDPI Data Descriptor \n",
    "The data description, category meaning and a detailed explanation of the columns and values where found here: \n",
    "- https://doi.org/10.3390/data7110146\n",
    "The paper confirms that the data has already been processed.\n",
    "\n",
    "### Early Prediction of student’s Performance in Higher Education: A Case Study\n",
    "- Read the linked paper using DOI: 10.1007/978-3-030-72657-7_16\n",
    "- We found the dataset relates to a paper that was published in a book with the following authors Mónica V. Martins , Daniel Tolledo1, Jorge Machado , Luís M. T. Baptista , and Valentim Realinho\n",
    "- Our initial plan is to reproduce the figures of the paper\n",
    "\n"
   ]
  },
  {
   "cell_type": "markdown",
   "id": "ac39df03",
   "metadata": {},
   "source": [
    "- Taken from: https://www.kaggle.com/datasets/thedevastator/higher-education-predictors-of-student-retention\n",
    "\n",
    "This dataset contains data from a higher education institution on various variables related to undergraduate students, including demographics, social-economic factors, and academic performance, to investigate the impact of these factors on student dropout and academic success\n",
    "\n",
    "|Feature Name|Description|Feature Type| Our comments |\n",
    "|----|-----|-----|----|\n",
    "|Demograhic Data|\n",
    "| Marital status| The marital status of the student. |int64|    Family responsibilities impacting dropouts?|\n",
    "| Nationality| The nationality of the student.|int64| More committment for foreign students?|\n",
    "| Displaced| Whether the student is a displaced person.|int64| Moved from hometown Not described in MDPI. Yes - 1, No - 0 ||\n",
    "| Gender| The gender of the student.|int64| Male - 1, Female - 0 |\n",
    "| Age at enrollment| The age of the student at the time of enrollment.|int64|\n",
    "| International| Whether the student is an international student. |int64| Yes - 1, No - 0 |\n",
    "|Socioeconomic Data|\n",
    "| Mother's qualification| The qualification of the student's mother. |int64| See MDPI for what the numbers mean |\n",
    "| Father's qualification| The qualification of the student's father. |int64| See MDPI for what the numbers mean |\n",
    "| Mother's occupation| The occupation of the student's mother.|int64| See MDPI for what the numbers mean |\n",
    "| Father's occupation| The occupation of the student's father.|int64| See MDPI for what the numbers mean |\n",
    "| Educational special needs| Whether the student has any special educational needs.|int64|Yes - 1, No - 0 |\n",
    "| Debtor| Whether the student is a debtor at institution.|int64| Yes - 1, No - 0 |\n",
    "| Tuition fees up to date| Whether the student's tuition fees are up to date.|int64| Yes - 1, No - 0 |\n",
    "| Scholarship holder| Whether the student is a scholarship holder.|int64|  Yes - 1, No - 0 |\n",
    "|Macroeconomic Data|\n",
    "| Unemployment rate| The Unemployment Rate |float64| \n",
    "| Inflation rate| The Inflation rate |float64|\n",
    "| GDP| The GDP Rate in the country |float64|  |\n",
    "|Academic data at enrollment|\n",
    "| Application mode| The method of application used by the student.|int64| \n",
    "| Application order| The order in which the student applied. |int64| Students choose several programs when applying(?) No information listed in MDPI |\n",
    "| Course |The course taken by the student. |int64| \n",
    "| Daytime/evening attendance| Whether the student attends classes during the day or in the evening. |int64| Daytime - 1, Evening - 0 | |\n",
    "| Previous qualification |The qualification obtained by the student before enrolling in higher education. |int64|  |\n",
    "|Academic data at the end of 1st semester|\n",
    "| Curricular units 1st sem (credited)| The number of curricular units credited by the student in the first semester. |int64| Curricular units are similar to ECTS credits|\n",
    "| Curricular units 1st sem (enrolled)| The number of curricular units enrolled by the student in the first semester. |int64| Registered for a course |\n",
    "| Curricular units 1st sem (evaluations)| The number of curricular units evaluated by the student in the first semester. |int64| Curricular units passed in first semester|\n",
    "| Curricular units 1st sem (approved)| The number of curricular units approved by the student in the first semester. |int64|Curricular units passed in a course |\n",
    "| Curricular units 1st sem (grade)| The grade recevied in the first semester. |float64|  Total grade |\n",
    "| Curricular units 1st sem (without evaluations)| The number of curricular units approved by the student in the first semester. |int64| Curricular units pending approval   |\n",
    "|Academic data at the end of 2nd semester|\n",
    "| Curricular units 2nd sem (credited)| The number of curricular units credited by the student in the second semester. |int64|Curricular units are similar to ECTS credits|\n",
    "| Curricular units 2nd sem (enrolled)| The number of curricular units enrolled by the student in the second semester. |int64| Registered for a course  |\n",
    "| Curricular units 2nd sem (evaluations)| The number of curricular units evaluated by the student in the second semester. |int64| Curricular units passed in first semester |\n",
    "| Curricular units 2nd sem (approved)| The number of curricular units approved by the student in the second semester. |int64|  Curricular units passed in a course |\n",
    "| Curricular units 2nd sem (grade)| The grade recevied in the second semester. |float64| We assumed this means the total grade. |\n",
    "|Curricular units 2nd sem (without evaluations)| The number of curricular units approved by the student in the second semester. |int64|Curricular units pending approval |\n",
    "|Target |\n",
    "| Target| The target is categorical: dropouts, graduates, and enrolled. |object|\n"
   ]
  },
  {
   "cell_type": "markdown",
   "id": "7c44854d",
   "metadata": {},
   "source": [
    "#### The Portuguese grading system\n",
    "https://www.studyineurope.eu/study-in-portugal/grades\n",
    "https://tecnico.ulisboa.pt/en/education/study-at-tecnico/academic-information/enrolments/\n"
   ]
  },
  {
   "cell_type": "markdown",
   "id": "2e6bb55d",
   "metadata": {},
   "source": [
    "## Global Settings "
   ]
  },
  {
   "cell_type": "code",
   "execution_count": 665,
   "id": "4bded8d2",
   "metadata": {},
   "outputs": [
    {
     "name": "stdout",
     "output_type": "stream",
     "text": [
      "Requirement already satisfied: imbalanced-learn in /Users/vatsal/opt/anaconda3/lib/python3.9/site-packages (0.10.1)\n",
      "Requirement already satisfied: numpy>=1.17.3 in /Users/vatsal/opt/anaconda3/lib/python3.9/site-packages (from imbalanced-learn) (1.21.5)\n",
      "Requirement already satisfied: scipy>=1.3.2 in /Users/vatsal/opt/anaconda3/lib/python3.9/site-packages (from imbalanced-learn) (1.7.3)\n",
      "Requirement already satisfied: scikit-learn>=1.0.2 in /Users/vatsal/opt/anaconda3/lib/python3.9/site-packages (from imbalanced-learn) (1.0.2)\n",
      "Requirement already satisfied: joblib>=1.1.1 in /Users/vatsal/opt/anaconda3/lib/python3.9/site-packages (from imbalanced-learn) (1.2.0)\n",
      "Requirement already satisfied: threadpoolctl>=2.0.0 in /Users/vatsal/opt/anaconda3/lib/python3.9/site-packages (from imbalanced-learn) (2.2.0)\n"
     ]
    }
   ],
   "source": [
    "import pandas as pd\n",
    "import numpy as np\n",
    "\n",
    "from sklearn.model_selection import train_test_split\n",
    "from sklearn.feature_selection import SelectFromModel\n",
    "\n",
    "from sklearn.model_selection import GridSearchCV\n",
    "from sklearn.neighbors import KNeighborsClassifier\n",
    "from sklearn.tree import DecisionTreeClassifier\n",
    "from sklearn.ensemble import RandomForestClassifier\n",
    "from sklearn.linear_model import LogisticRegression\n",
    "from sklearn.neural_network import MLPClassifier\n",
    "from sklearn.preprocessing import StandardScaler \n",
    "\n",
    "from sklearn.metrics import accuracy_score\n",
    "from sklearn.tree import export_graphviz\n",
    "from io import StringIO \n",
    "from sklearn.metrics import confusion_matrix, classification_report\n",
    "from sklearn.metrics import f1_score, precision_score, recall_score\n",
    "from IPython.display import Image  \n",
    "import pydotplus\n",
    "import matplotlib.pyplot as plt\n",
    "import seaborn as sns\n",
    "from sklearn import tree\n",
    "\n",
    "!pip install imbalanced-learn\n",
    "from imblearn.over_sampling import SMOTE"
   ]
  },
  {
   "cell_type": "code",
   "execution_count": 666,
   "id": "995c3496",
   "metadata": {
    "scrolled": true
   },
   "outputs": [
    {
     "data": {
      "text/html": [
       "<div>\n",
       "<style scoped>\n",
       "    .dataframe tbody tr th:only-of-type {\n",
       "        vertical-align: middle;\n",
       "    }\n",
       "\n",
       "    .dataframe tbody tr th {\n",
       "        vertical-align: top;\n",
       "    }\n",
       "\n",
       "    .dataframe thead th {\n",
       "        text-align: right;\n",
       "    }\n",
       "</style>\n",
       "<table border=\"1\" class=\"dataframe\">\n",
       "  <thead>\n",
       "    <tr style=\"text-align: right;\">\n",
       "      <th></th>\n",
       "      <th>Marital status</th>\n",
       "      <th>Application mode</th>\n",
       "      <th>Application order</th>\n",
       "      <th>Course</th>\n",
       "      <th>Daytime/evening attendance</th>\n",
       "      <th>Previous qualification</th>\n",
       "      <th>Nacionality</th>\n",
       "      <th>Mother's qualification</th>\n",
       "      <th>Father's qualification</th>\n",
       "      <th>Mother's occupation</th>\n",
       "      <th>...</th>\n",
       "      <th>Curricular units 2nd sem (credited)</th>\n",
       "      <th>Curricular units 2nd sem (enrolled)</th>\n",
       "      <th>Curricular units 2nd sem (evaluations)</th>\n",
       "      <th>Curricular units 2nd sem (approved)</th>\n",
       "      <th>Curricular units 2nd sem (grade)</th>\n",
       "      <th>Curricular units 2nd sem (without evaluations)</th>\n",
       "      <th>Unemployment rate</th>\n",
       "      <th>Inflation rate</th>\n",
       "      <th>GDP</th>\n",
       "      <th>Target</th>\n",
       "    </tr>\n",
       "  </thead>\n",
       "  <tbody>\n",
       "    <tr>\n",
       "      <th>0</th>\n",
       "      <td>1</td>\n",
       "      <td>8</td>\n",
       "      <td>5</td>\n",
       "      <td>2</td>\n",
       "      <td>1</td>\n",
       "      <td>1</td>\n",
       "      <td>1</td>\n",
       "      <td>13</td>\n",
       "      <td>10</td>\n",
       "      <td>6</td>\n",
       "      <td>...</td>\n",
       "      <td>0</td>\n",
       "      <td>0</td>\n",
       "      <td>0</td>\n",
       "      <td>0</td>\n",
       "      <td>0.000000</td>\n",
       "      <td>0</td>\n",
       "      <td>10.8</td>\n",
       "      <td>1.4</td>\n",
       "      <td>1.74</td>\n",
       "      <td>Dropout</td>\n",
       "    </tr>\n",
       "    <tr>\n",
       "      <th>1</th>\n",
       "      <td>1</td>\n",
       "      <td>6</td>\n",
       "      <td>1</td>\n",
       "      <td>11</td>\n",
       "      <td>1</td>\n",
       "      <td>1</td>\n",
       "      <td>1</td>\n",
       "      <td>1</td>\n",
       "      <td>3</td>\n",
       "      <td>4</td>\n",
       "      <td>...</td>\n",
       "      <td>0</td>\n",
       "      <td>6</td>\n",
       "      <td>6</td>\n",
       "      <td>6</td>\n",
       "      <td>13.666667</td>\n",
       "      <td>0</td>\n",
       "      <td>13.9</td>\n",
       "      <td>-0.3</td>\n",
       "      <td>0.79</td>\n",
       "      <td>Graduate</td>\n",
       "    </tr>\n",
       "    <tr>\n",
       "      <th>2</th>\n",
       "      <td>1</td>\n",
       "      <td>1</td>\n",
       "      <td>5</td>\n",
       "      <td>5</td>\n",
       "      <td>1</td>\n",
       "      <td>1</td>\n",
       "      <td>1</td>\n",
       "      <td>22</td>\n",
       "      <td>27</td>\n",
       "      <td>10</td>\n",
       "      <td>...</td>\n",
       "      <td>0</td>\n",
       "      <td>6</td>\n",
       "      <td>0</td>\n",
       "      <td>0</td>\n",
       "      <td>0.000000</td>\n",
       "      <td>0</td>\n",
       "      <td>10.8</td>\n",
       "      <td>1.4</td>\n",
       "      <td>1.74</td>\n",
       "      <td>Dropout</td>\n",
       "    </tr>\n",
       "    <tr>\n",
       "      <th>3</th>\n",
       "      <td>1</td>\n",
       "      <td>8</td>\n",
       "      <td>2</td>\n",
       "      <td>15</td>\n",
       "      <td>1</td>\n",
       "      <td>1</td>\n",
       "      <td>1</td>\n",
       "      <td>23</td>\n",
       "      <td>27</td>\n",
       "      <td>6</td>\n",
       "      <td>...</td>\n",
       "      <td>0</td>\n",
       "      <td>6</td>\n",
       "      <td>10</td>\n",
       "      <td>5</td>\n",
       "      <td>12.400000</td>\n",
       "      <td>0</td>\n",
       "      <td>9.4</td>\n",
       "      <td>-0.8</td>\n",
       "      <td>-3.12</td>\n",
       "      <td>Graduate</td>\n",
       "    </tr>\n",
       "    <tr>\n",
       "      <th>4</th>\n",
       "      <td>2</td>\n",
       "      <td>12</td>\n",
       "      <td>1</td>\n",
       "      <td>3</td>\n",
       "      <td>0</td>\n",
       "      <td>1</td>\n",
       "      <td>1</td>\n",
       "      <td>22</td>\n",
       "      <td>28</td>\n",
       "      <td>10</td>\n",
       "      <td>...</td>\n",
       "      <td>0</td>\n",
       "      <td>6</td>\n",
       "      <td>6</td>\n",
       "      <td>6</td>\n",
       "      <td>13.000000</td>\n",
       "      <td>0</td>\n",
       "      <td>13.9</td>\n",
       "      <td>-0.3</td>\n",
       "      <td>0.79</td>\n",
       "      <td>Graduate</td>\n",
       "    </tr>\n",
       "    <tr>\n",
       "      <th>5</th>\n",
       "      <td>2</td>\n",
       "      <td>12</td>\n",
       "      <td>1</td>\n",
       "      <td>17</td>\n",
       "      <td>0</td>\n",
       "      <td>12</td>\n",
       "      <td>1</td>\n",
       "      <td>22</td>\n",
       "      <td>27</td>\n",
       "      <td>10</td>\n",
       "      <td>...</td>\n",
       "      <td>0</td>\n",
       "      <td>5</td>\n",
       "      <td>17</td>\n",
       "      <td>5</td>\n",
       "      <td>11.500000</td>\n",
       "      <td>5</td>\n",
       "      <td>16.2</td>\n",
       "      <td>0.3</td>\n",
       "      <td>-0.92</td>\n",
       "      <td>Graduate</td>\n",
       "    </tr>\n",
       "    <tr>\n",
       "      <th>6</th>\n",
       "      <td>1</td>\n",
       "      <td>1</td>\n",
       "      <td>1</td>\n",
       "      <td>12</td>\n",
       "      <td>1</td>\n",
       "      <td>1</td>\n",
       "      <td>1</td>\n",
       "      <td>13</td>\n",
       "      <td>28</td>\n",
       "      <td>8</td>\n",
       "      <td>...</td>\n",
       "      <td>0</td>\n",
       "      <td>8</td>\n",
       "      <td>8</td>\n",
       "      <td>8</td>\n",
       "      <td>14.345000</td>\n",
       "      <td>0</td>\n",
       "      <td>15.5</td>\n",
       "      <td>2.8</td>\n",
       "      <td>-4.06</td>\n",
       "      <td>Graduate</td>\n",
       "    </tr>\n",
       "    <tr>\n",
       "      <th>7</th>\n",
       "      <td>1</td>\n",
       "      <td>9</td>\n",
       "      <td>4</td>\n",
       "      <td>11</td>\n",
       "      <td>1</td>\n",
       "      <td>1</td>\n",
       "      <td>1</td>\n",
       "      <td>22</td>\n",
       "      <td>27</td>\n",
       "      <td>10</td>\n",
       "      <td>...</td>\n",
       "      <td>0</td>\n",
       "      <td>5</td>\n",
       "      <td>5</td>\n",
       "      <td>0</td>\n",
       "      <td>0.000000</td>\n",
       "      <td>0</td>\n",
       "      <td>15.5</td>\n",
       "      <td>2.8</td>\n",
       "      <td>-4.06</td>\n",
       "      <td>Dropout</td>\n",
       "    </tr>\n",
       "    <tr>\n",
       "      <th>8</th>\n",
       "      <td>1</td>\n",
       "      <td>1</td>\n",
       "      <td>3</td>\n",
       "      <td>10</td>\n",
       "      <td>1</td>\n",
       "      <td>1</td>\n",
       "      <td>15</td>\n",
       "      <td>1</td>\n",
       "      <td>1</td>\n",
       "      <td>10</td>\n",
       "      <td>...</td>\n",
       "      <td>0</td>\n",
       "      <td>6</td>\n",
       "      <td>7</td>\n",
       "      <td>6</td>\n",
       "      <td>14.142857</td>\n",
       "      <td>0</td>\n",
       "      <td>16.2</td>\n",
       "      <td>0.3</td>\n",
       "      <td>-0.92</td>\n",
       "      <td>Graduate</td>\n",
       "    </tr>\n",
       "    <tr>\n",
       "      <th>9</th>\n",
       "      <td>1</td>\n",
       "      <td>1</td>\n",
       "      <td>1</td>\n",
       "      <td>10</td>\n",
       "      <td>1</td>\n",
       "      <td>1</td>\n",
       "      <td>1</td>\n",
       "      <td>1</td>\n",
       "      <td>14</td>\n",
       "      <td>5</td>\n",
       "      <td>...</td>\n",
       "      <td>0</td>\n",
       "      <td>6</td>\n",
       "      <td>14</td>\n",
       "      <td>2</td>\n",
       "      <td>13.500000</td>\n",
       "      <td>0</td>\n",
       "      <td>8.9</td>\n",
       "      <td>1.4</td>\n",
       "      <td>3.51</td>\n",
       "      <td>Dropout</td>\n",
       "    </tr>\n",
       "  </tbody>\n",
       "</table>\n",
       "<p>10 rows × 35 columns</p>\n",
       "</div>"
      ],
      "text/plain": [
       "   Marital status  Application mode  Application order  Course  \\\n",
       "0               1                 8                  5       2   \n",
       "1               1                 6                  1      11   \n",
       "2               1                 1                  5       5   \n",
       "3               1                 8                  2      15   \n",
       "4               2                12                  1       3   \n",
       "5               2                12                  1      17   \n",
       "6               1                 1                  1      12   \n",
       "7               1                 9                  4      11   \n",
       "8               1                 1                  3      10   \n",
       "9               1                 1                  1      10   \n",
       "\n",
       "   Daytime/evening attendance  Previous qualification  Nacionality  \\\n",
       "0                           1                       1            1   \n",
       "1                           1                       1            1   \n",
       "2                           1                       1            1   \n",
       "3                           1                       1            1   \n",
       "4                           0                       1            1   \n",
       "5                           0                      12            1   \n",
       "6                           1                       1            1   \n",
       "7                           1                       1            1   \n",
       "8                           1                       1           15   \n",
       "9                           1                       1            1   \n",
       "\n",
       "   Mother's qualification  Father's qualification  Mother's occupation  ...  \\\n",
       "0                      13                      10                    6  ...   \n",
       "1                       1                       3                    4  ...   \n",
       "2                      22                      27                   10  ...   \n",
       "3                      23                      27                    6  ...   \n",
       "4                      22                      28                   10  ...   \n",
       "5                      22                      27                   10  ...   \n",
       "6                      13                      28                    8  ...   \n",
       "7                      22                      27                   10  ...   \n",
       "8                       1                       1                   10  ...   \n",
       "9                       1                      14                    5  ...   \n",
       "\n",
       "   Curricular units 2nd sem (credited)  Curricular units 2nd sem (enrolled)  \\\n",
       "0                                    0                                    0   \n",
       "1                                    0                                    6   \n",
       "2                                    0                                    6   \n",
       "3                                    0                                    6   \n",
       "4                                    0                                    6   \n",
       "5                                    0                                    5   \n",
       "6                                    0                                    8   \n",
       "7                                    0                                    5   \n",
       "8                                    0                                    6   \n",
       "9                                    0                                    6   \n",
       "\n",
       "   Curricular units 2nd sem (evaluations)  \\\n",
       "0                                       0   \n",
       "1                                       6   \n",
       "2                                       0   \n",
       "3                                      10   \n",
       "4                                       6   \n",
       "5                                      17   \n",
       "6                                       8   \n",
       "7                                       5   \n",
       "8                                       7   \n",
       "9                                      14   \n",
       "\n",
       "   Curricular units 2nd sem (approved)  Curricular units 2nd sem (grade)  \\\n",
       "0                                    0                          0.000000   \n",
       "1                                    6                         13.666667   \n",
       "2                                    0                          0.000000   \n",
       "3                                    5                         12.400000   \n",
       "4                                    6                         13.000000   \n",
       "5                                    5                         11.500000   \n",
       "6                                    8                         14.345000   \n",
       "7                                    0                          0.000000   \n",
       "8                                    6                         14.142857   \n",
       "9                                    2                         13.500000   \n",
       "\n",
       "   Curricular units 2nd sem (without evaluations)  Unemployment rate  \\\n",
       "0                                               0               10.8   \n",
       "1                                               0               13.9   \n",
       "2                                               0               10.8   \n",
       "3                                               0                9.4   \n",
       "4                                               0               13.9   \n",
       "5                                               5               16.2   \n",
       "6                                               0               15.5   \n",
       "7                                               0               15.5   \n",
       "8                                               0               16.2   \n",
       "9                                               0                8.9   \n",
       "\n",
       "   Inflation rate   GDP    Target  \n",
       "0             1.4  1.74   Dropout  \n",
       "1            -0.3  0.79  Graduate  \n",
       "2             1.4  1.74   Dropout  \n",
       "3            -0.8 -3.12  Graduate  \n",
       "4            -0.3  0.79  Graduate  \n",
       "5             0.3 -0.92  Graduate  \n",
       "6             2.8 -4.06  Graduate  \n",
       "7             2.8 -4.06   Dropout  \n",
       "8             0.3 -0.92  Graduate  \n",
       "9             1.4  3.51   Dropout  \n",
       "\n",
       "[10 rows x 35 columns]"
      ]
     },
     "execution_count": 666,
     "metadata": {},
     "output_type": "execute_result"
    }
   ],
   "source": [
    "# open the datset and display\n",
    "df = pd.read_csv(\"dataset.csv\",sep=',')\n",
    "df.head(10)"
   ]
  },
  {
   "cell_type": "markdown",
   "id": "b89dda8c",
   "metadata": {},
   "source": [
    "# Explore Data"
   ]
  },
  {
   "cell_type": "code",
   "execution_count": 667,
   "id": "4024b4f4",
   "metadata": {},
   "outputs": [
    {
     "data": {
      "text/plain": [
       "(4424, 35)"
      ]
     },
     "execution_count": 667,
     "metadata": {},
     "output_type": "execute_result"
    }
   ],
   "source": [
    "df.shape"
   ]
  },
  {
   "cell_type": "code",
   "execution_count": 668,
   "id": "3c05c4ae",
   "metadata": {},
   "outputs": [],
   "source": [
    "df = df.dropna() # check for NA values, No preprocessing needed "
   ]
  },
  {
   "cell_type": "code",
   "execution_count": 669,
   "id": "89793053",
   "metadata": {},
   "outputs": [
    {
     "data": {
      "text/plain": [
       "(4424, 35)"
      ]
     },
     "execution_count": 669,
     "metadata": {},
     "output_type": "execute_result"
    }
   ],
   "source": [
    "df.shape"
   ]
  },
  {
   "cell_type": "markdown",
   "id": "f92c13fa",
   "metadata": {},
   "source": [
    "The authors stated that “The final dataset consisted of 3623 records and 25 independent variables.” (Page 169)\n",
    "However our findings are that there are 4424 rows and 35 columns"
   ]
  },
  {
   "cell_type": "markdown",
   "id": "3a672a59",
   "metadata": {},
   "source": [
    "Findings: The dataset contained 4424 records with 35 attributes which is consistent with data description, Page 2"
   ]
  },
  {
   "cell_type": "code",
   "execution_count": 670,
   "id": "c35e1b38",
   "metadata": {},
   "outputs": [
    {
     "name": "stdout",
     "output_type": "stream",
     "text": [
      "Marital status\n",
      "Application mode\n",
      "Application order\n",
      "Course\n",
      "Daytime/evening attendance\n",
      "Previous qualification\n",
      "Nacionality\n",
      "Mother's qualification\n",
      "Father's qualification\n",
      "Mother's occupation\n",
      "Father's occupation\n",
      "Displaced\n",
      "Educational special needs\n",
      "Debtor\n",
      "Tuition fees up to date\n",
      "Gender\n",
      "Scholarship holder\n",
      "Age at enrollment\n",
      "International\n",
      "Curricular units 1st sem (credited)\n",
      "Curricular units 1st sem (enrolled)\n",
      "Curricular units 1st sem (evaluations)\n",
      "Curricular units 1st sem (approved)\n",
      "Curricular units 1st sem (grade)\n",
      "Curricular units 1st sem (without evaluations)\n",
      "Curricular units 2nd sem (credited)\n",
      "Curricular units 2nd sem (enrolled)\n",
      "Curricular units 2nd sem (evaluations)\n",
      "Curricular units 2nd sem (approved)\n",
      "Curricular units 2nd sem (grade)\n",
      "Curricular units 2nd sem (without evaluations)\n",
      "Unemployment rate\n",
      "Inflation rate\n",
      "GDP\n",
      "Target\n"
     ]
    }
   ],
   "source": [
    "for i in df.columns:\n",
    "    print(i) \n",
    "    #print (df[i].value_counts())"
   ]
  },
  {
   "cell_type": "code",
   "execution_count": 671,
   "id": "b6611e39-bdcd-4a63-877b-e182ccc94009",
   "metadata": {},
   "outputs": [
    {
     "name": "stdout",
     "output_type": "stream",
     "text": [
      "Marital status                                      int64\n",
      "Application mode                                    int64\n",
      "Application order                                   int64\n",
      "Course                                              int64\n",
      "Daytime/evening attendance                          int64\n",
      "Previous qualification                              int64\n",
      "Nacionality                                         int64\n",
      "Mother's qualification                              int64\n",
      "Father's qualification                              int64\n",
      "Mother's occupation                                 int64\n",
      "Father's occupation                                 int64\n",
      "Displaced                                           int64\n",
      "Educational special needs                           int64\n",
      "Debtor                                              int64\n",
      "Tuition fees up to date                             int64\n",
      "Gender                                              int64\n",
      "Scholarship holder                                  int64\n",
      "Age at enrollment                                   int64\n",
      "International                                       int64\n",
      "Curricular units 1st sem (credited)                 int64\n",
      "Curricular units 1st sem (enrolled)                 int64\n",
      "Curricular units 1st sem (evaluations)              int64\n",
      "Curricular units 1st sem (approved)                 int64\n",
      "Curricular units 1st sem (grade)                  float64\n",
      "Curricular units 1st sem (without evaluations)      int64\n",
      "Curricular units 2nd sem (credited)                 int64\n",
      "Curricular units 2nd sem (enrolled)                 int64\n",
      "Curricular units 2nd sem (evaluations)              int64\n",
      "Curricular units 2nd sem (approved)                 int64\n",
      "Curricular units 2nd sem (grade)                  float64\n",
      "Curricular units 2nd sem (without evaluations)      int64\n",
      "Unemployment rate                                 float64\n",
      "Inflation rate                                    float64\n",
      "GDP                                               float64\n",
      "Target                                             object\n",
      "dtype: object\n"
     ]
    }
   ],
   "source": [
    "print(df.dtypes)"
   ]
  },
  {
   "cell_type": "code",
   "execution_count": 672,
   "id": "b54962aa-4147-4fbb-9616-04f088c65b98",
   "metadata": {},
   "outputs": [
    {
     "data": {
      "text/plain": [
       "12    766\n",
       "9     380\n",
       "10    355\n",
       "6     337\n",
       "15    331\n",
       "14    268\n",
       "17    268\n",
       "11    252\n",
       "5     226\n",
       "2     215\n",
       "3     215\n",
       "4     210\n",
       "16    192\n",
       "7     170\n",
       "8     141\n",
       "13     86\n",
       "1      12\n",
       "Name: Course, dtype: int64"
      ]
     },
     "execution_count": 672,
     "metadata": {},
     "output_type": "execute_result"
    }
   ],
   "source": [
    "df['Course'].value_counts()# validate 17 undergrade degrees"
   ]
  },
  {
   "cell_type": "code",
   "execution_count": 673,
   "id": "15a43a2f",
   "metadata": {},
   "outputs": [],
   "source": [
    "#taken from the paper                                 # mapping data set from MDPI Paper  \n",
    "DemographicFactors = ['Marital status', \n",
    "                         'Gender', \n",
    "                         'Marital status', \n",
    "                         'Nacionality',               # 'Noted typo in the Column name, Nationality/Nacionality'\n",
    "                         'Displaced',              \n",
    "                         'Age at enrollment'] "
   ]
  },
  {
   "cell_type": "code",
   "execution_count": 674,
   "id": "cfa8722d",
   "metadata": {},
   "outputs": [],
   "source": [
    "#taken from the paper\n",
    "socioEconomicFactors =  ['Mother’s qualification', \n",
    "                           'Father’s qualification',           \n",
    "                           'Mother’s occupation',             \n",
    "                           'Father’s occupation',    \n",
    "                           'Educational special needs',                    \n",
    "                           'Debtor'\n",
    "                           'Tuition fees up to date'\n",
    "                           'Scholarship holder']                   "
   ]
  },
  {
   "cell_type": "code",
   "execution_count": 675,
   "id": "56e56c20",
   "metadata": {},
   "outputs": [],
   "source": [
    "#taken from the paper\n",
    "macroEconomicFactors = ['Unemployment rate',                     \n",
    "                       'Inflation rate', \n",
    "                       'GDP'] \n"
   ]
  },
  {
   "cell_type": "code",
   "execution_count": 676,
   "id": "14d1642e",
   "metadata": {},
   "outputs": [],
   "source": [
    "#taken from the paper\n",
    "academicDataAtEnrollment =  ['Application mode', \n",
    "                           'Application order',           \n",
    "                           'Course',             \n",
    "                           'Daytime/evening attendance',    \n",
    "                           'Previous qualification']"
   ]
  },
  {
   "cell_type": "code",
   "execution_count": 677,
   "id": "c2f42993",
   "metadata": {},
   "outputs": [],
   "source": [
    "#taken from the paper\n",
    "academicData1stSemester =  ['Curricular units 1st sem (credited)', \n",
    "                           'Curricular units 1st sem (enrolled)',           \n",
    "                           'Curricular units 1st sem (evaluations)',             \n",
    "                           'Curricular units 1st sem (approved)',    \n",
    "                           'Curricular units 1st sem (grade)',                    \n",
    "                           'Curricular units 1st sem (without evaluations)']                   "
   ]
  },
  {
   "cell_type": "code",
   "execution_count": 678,
   "id": "a66a8792",
   "metadata": {},
   "outputs": [],
   "source": [
    "#taken from the paper\n",
    "academicData2ndSemester =  ['Curricular units 2nd sem (credited)', \n",
    "                           'Curricular units 2nd sem (enrolled)',           \n",
    "                           'Curricular units 2nd sem (evaluations)',             \n",
    "                           'Curricular units 2nd sem (approved)',    \n",
    "                           'Curricular units 2nd sem (grade)',                    \n",
    "                           'Curricular units 2nd sem (without evaluations)']                   "
   ]
  },
  {
   "cell_type": "markdown",
   "id": "e4cdd424",
   "metadata": {},
   "source": [
    "## Visualization of Target variable "
   ]
  },
  {
   "cell_type": "code",
   "execution_count": 679,
   "id": "503f54f7",
   "metadata": {
    "scrolled": true
   },
   "outputs": [
    {
     "data": {
      "text/plain": [
       "Graduate    2209\n",
       "Dropout     1421\n",
       "Enrolled     794\n",
       "Name: Target, dtype: int64"
      ]
     },
     "execution_count": 679,
     "metadata": {},
     "output_type": "execute_result"
    }
   ],
   "source": [
    "df['Target'].value_counts()"
   ]
  },
  {
   "cell_type": "code",
   "execution_count": 680,
   "id": "68963e8c",
   "metadata": {},
   "outputs": [],
   "source": [
    "#Convert series to list: (seriestolist)\n",
    "#https://sparkbyexamples.com/pandas/convert-pandas-series-to-list/#:~:text=Pandas%20Series.,and%20dictionary%20into%20a%20Series."
   ]
  },
  {
   "cell_type": "markdown",
   "id": "6263a95c",
   "metadata": {},
   "source": [
    "This colour palette was deliberately selected as an example for a palette that does not support colour blindness. Visualisation for our report was developed using Tableau."
   ]
  },
  {
   "cell_type": "code",
   "execution_count": 681,
   "id": "1befdb21",
   "metadata": {},
   "outputs": [
    {
     "data": {
      "image/png": "[encoded data removed]",
      "text/plain": [
       "<Figure size 432x288 with 1 Axes>"
      ]
     },
     "metadata": {},
     "output_type": "display_data"
    }
   ],
   "source": [
    "labels = ['Graduate', 'Dropout', 'Enrolled']\n",
    "dataList=df['Target'].value_counts().tolist()\n",
    "colors = ['#0D652D', '#A50E0E', '#E37400'] #colors = ['Green', 'Red', 'Yellow']\n",
    "\n",
    "# Plot\n",
    "fig, ax = plt.subplots()\n",
    "ax.pie(dataList, labels=labels, colors=colors, autopct='%1.1f%%', startangle=270\n",
    "      )\n",
    "plt.savefig('pie-chart.png',bbox_inches=\"tight\")\n",
    "plt.show()"
   ]
  },
  {
   "cell_type": "code",
   "execution_count": 682,
   "id": "a15eb749",
   "metadata": {},
   "outputs": [
    {
     "data": {
      "image/png": "[encoded data removed]",
      "text/plain": [
       "<Figure size 432x288 with 1 Axes>"
      ]
     },
     "metadata": {
      "needs_background": "light"
     },
     "output_type": "display_data"
    }
   ],
   "source": [
    "target_counts = df['Target'].value_counts()\n",
    "colors = ['#0D652D', '#A50E0E', '#E37400']\n",
    "fig, ax = plt.subplots()\n",
    "ax.bar(target_counts.index, target_counts.values)\n",
    "ax.bar(target_counts.index, target_counts.values, color=colors)\n",
    "ax.set_xlabel('Target')\n",
    "ax.set_ylabel('Count')\n",
    "ax.set_title('Target Variable Distribution')\n",
    "plt.savefig('Distribution.png', bbox_inches='tight')\n",
    "plt.show()"
   ]
  },
  {
   "cell_type": "markdown",
   "id": "9e4b4b95",
   "metadata": {},
   "source": [
    "## Feature selection: Model-Based Feature Selection ( Part 1 )"
   ]
  },
  {
   "cell_type": "markdown",
   "id": "24b44c31",
   "metadata": {},
   "source": [
    "Baised on the preliminary machine model testing we discussed that it would be important to do a feature selection using a correlation matrix. \n",
    "\n",
    "Looking at the text book, page 238, Model-Based Feature Selection was used to help identify the most important features. \n",
    "\"When adding new features, or with high-dimensional datasets in general,\n",
    "it can be a good idea to reduce the number of features to only the most useful ones,\n",
    "and discard the rest. This can lead to simpler models that generalize better.\" (page 236) \n",
    "\n",
    "\n"
   ]
  },
  {
   "cell_type": "code",
   "execution_count": 683,
   "id": "b2ed0368",
   "metadata": {},
   "outputs": [
    {
     "name": "stdout",
     "output_type": "stream",
     "text": [
      "(3318, 34) (1106, 34) (3318,) (1106,)\n",
      "X_train.shape: (3318, 34)\n",
      "X_train_l1.shape: (3318, 17)\n"
     ]
    }
   ],
   "source": [
    "x = df.drop('Target', axis=1)\n",
    "y = df.Target\n",
    "X_train, X_test, y_train, y_test = train_test_split(x, y, random_state = 0)\n",
    "print(X_train.shape, X_test.shape, y_train.shape, y_test.shape)\n",
    "\n",
    "select = SelectFromModel(\n",
    "    RandomForestClassifier(n_estimators=100, random_state=42),threshold=\"median\")\n",
    "select.fit(X_train, y_train)\n",
    "X_train_l1 = select.transform(X_train)\n",
    "print(\"X_train.shape: {}\".format(X_train.shape))\n",
    "print(\"X_train_l1.shape: {}\".format(X_train_l1.shape))"
   ]
  },
  {
   "cell_type": "code",
   "execution_count": 684,
   "id": "0cf5f526",
   "metadata": {},
   "outputs": [
    {
     "name": "stdout",
     "output_type": "stream",
     "text": [
      "Figure 5. Most important features by index \n"
     ]
    },
    {
     "data": {
      "image/png": "[encoded data removed]",
      "text/plain": [
       "<Figure size 1152x144 with 1 Axes>"
      ]
     },
     "metadata": {
      "needs_background": "light"
     },
     "output_type": "display_data"
    }
   ],
   "source": [
    "mask = select.get_support()\n",
    "# visualize the mask -- black is True, white is False\n",
    "plt.matshow(mask.reshape(1, -1), cmap='gray_r')\n",
    "plt.xlabel(\"Sample index\")\n",
    "print(\"Figure 5. Most important features by index \")"
   ]
  },
  {
   "cell_type": "markdown",
   "id": "a54207be",
   "metadata": {},
   "source": [
    "Findings: Following the textbook it's difficult to identify the names because the above visualisation shows us the index number so the below code was used instead. "
   ]
  },
  {
   "cell_type": "code",
   "execution_count": 685,
   "id": "53f6d5b9",
   "metadata": {},
   "outputs": [
    {
     "name": "stdout",
     "output_type": "stream",
     "text": [
      "Most Important Features:\n",
      "                                   Feature  Importance\n",
      "12     Curricular units 2nd sem (approved)    0.144803\n",
      "13        Curricular units 2nd sem (grade)    0.101714\n",
      "8      Curricular units 1st sem (approved)    0.094535\n",
      "9         Curricular units 1st sem (grade)    0.070881\n",
      "11  Curricular units 2nd sem (evaluations)    0.044918\n",
      "6                        Age at enrollment    0.042369\n",
      "5                  Tuition fees up to date    0.042237\n",
      "0                                   Course    0.037026\n",
      "7   Curricular units 1st sem (evaluations)    0.036503\n",
      "4                      Father's occupation    0.034224\n",
      "3                      Mother's occupation    0.032572\n",
      "16                                     GDP    0.027016\n",
      "2                   Father's qualification    0.026775\n",
      "1                   Mother's qualification    0.026482\n",
      "14                       Unemployment rate    0.025662\n",
      "15                          Inflation rate    0.025277\n",
      "10     Curricular units 2nd sem (enrolled)    0.023914\n"
     ]
    }
   ],
   "source": [
    "model = RandomForestClassifier(n_estimators=100, random_state=42)\n",
    "model.fit(X_train, y_train)\n",
    "importances = model.feature_importances_\n",
    "selector = SelectFromModel(estimator=model, threshold='median')\n",
    "X_selected = selector.fit_transform(X_train, y_train)\n",
    "selected_indices = selector.get_support(indices=True)\n",
    "selected_features = X_train.columns[selected_indices]# This gives us the Name of the features\n",
    "selected_importances = importances[selected_indices]# This gives us the importances\n",
    "selected_df = pd.DataFrame({'Feature': selected_features, 'Importance': selected_importances})\n",
    "selected_df = selected_df.sort_values('Importance', ascending=False)\n",
    "print(\"Most Important Features:\")\n",
    "print(selected_df)"
   ]
  },
  {
   "cell_type": "markdown",
   "id": "7fdf352c",
   "metadata": {},
   "source": [
    "This can be dicussed in our paper and compared to the MDPI Data Descriptor section 324: Feature Importance, page 146."
   ]
  },
  {
   "cell_type": "markdown",
   "id": "c89d3e43",
   "metadata": {},
   "source": [
    "## Feature selection: correlation matrix for Feature Selection ( Part 2 )"
   ]
  },
  {
   "cell_type": "markdown",
   "id": "87faef1b",
   "metadata": {},
   "source": [
    "Reasoning: We are looking for the correlations with a 80% threshold which means the correlation over 0.8 or below -0.8. \n",
    "The thinking is that features with a high correlation are redundant to training the models. \n",
    "\n",
    "As an example; if we have 4 features for example internationality nationality country of birth and country of origin then in reality we're only having 1 feature, the Nationality that are meaningfully unique. \n",
    "\n",
    "So what we are looking for; if we have two strongly correlated variables the second variable automatically follows from the first variable so only there's only one variable carries important information for the model to learn from. \n"
   ]
  },
  {
   "cell_type": "code",
   "execution_count": 686,
   "id": "c0792ce5",
   "metadata": {},
   "outputs": [
    {
     "data": {
      "image/png": "[encoded data removed]",
      "text/plain": [
       "<Figure size 360x288 with 2 Axes>"
      ]
     },
     "metadata": {
      "needs_background": "light"
     },
     "output_type": "display_data"
    }
   ],
   "source": [
    "# Compute the correlation matrix for selected_features\n",
    "correlation_matrix = df[selected_df['Feature']].corr()\n",
    "# Plot the correlation matrix as a heatmap\n",
    "plt.figure(figsize=(5, 4))\n",
    "sns.heatmap(correlation_matrix, annot=False, cmap='coolwarm', vmin=-1,vmax=1)\n",
    "plt.title('Correlation Matrix for selected features')\n",
    "plt.savefig('correlation-selected-features.png',bbox_inches='tight')\n",
    "plt.show()"
   ]
  },
  {
   "cell_type": "code",
   "execution_count": 687,
   "id": "4775823f",
   "metadata": {},
   "outputs": [
    {
     "name": "stdout",
     "output_type": "stream",
     "text": [
      "Figure 6. Highly correlated items:\n",
      "('Curricular units 2nd sem (approved)', 'Curricular units 1st sem (approved)')\n",
      "('Curricular units 2nd sem (grade)', 'Curricular units 1st sem (grade)')\n"
     ]
    }
   ],
   "source": [
    "threshold = 0.8\n",
    "highly_correlated = []\n",
    "n_features = correlation_matrix.shape[0]\n",
    "\n",
    "for i in range(n_features):\n",
    "    for j in range(i + 1, n_features):\n",
    "        if abs(correlation_matrix.iloc[i, j]) > threshold:\n",
    "            pair = (correlation_matrix.columns[i], correlation_matrix.columns[j])\n",
    "            highly_correlated.append(pair)\n",
    "\n",
    "print(\"Figure 6. Highly correlated items:\")\n",
    "for pair in highly_correlated:\n",
    "    print(pair)"
   ]
  },
  {
   "cell_type": "markdown",
   "id": "c19a9877",
   "metadata": {},
   "source": [
    "Result: Evidence suggests that students that do well in the first semester also do well in the second semester and so the first semester data becomes redundant for training the model this means that we will use second semester features to train the model. \n",
    "\n",
    "This also means that people that do not do well in the first semester also do not do well in the second semester yes according to the correlation matrix. "
   ]
  },
  {
   "cell_type": "code",
   "execution_count": 688,
   "id": "ec3d5e28",
   "metadata": {},
   "outputs": [
    {
     "name": "stdout",
     "output_type": "stream",
     "text": [
      " Figure 7. Feature important final list  \n"
     ]
    },
    {
     "data": {
      "text/html": [
       "<div>\n",
       "<style scoped>\n",
       "    .dataframe tbody tr th:only-of-type {\n",
       "        vertical-align: middle;\n",
       "    }\n",
       "\n",
       "    .dataframe tbody tr th {\n",
       "        vertical-align: top;\n",
       "    }\n",
       "\n",
       "    .dataframe thead th {\n",
       "        text-align: right;\n",
       "    }\n",
       "</style>\n",
       "<table border=\"1\" class=\"dataframe\">\n",
       "  <thead>\n",
       "    <tr style=\"text-align: right;\">\n",
       "      <th></th>\n",
       "      <th>Feature</th>\n",
       "      <th>Importance</th>\n",
       "    </tr>\n",
       "  </thead>\n",
       "  <tbody>\n",
       "    <tr>\n",
       "      <th>12</th>\n",
       "      <td>Curricular units 2nd sem (approved)</td>\n",
       "      <td>0.144803</td>\n",
       "    </tr>\n",
       "    <tr>\n",
       "      <th>13</th>\n",
       "      <td>Curricular units 2nd sem (grade)</td>\n",
       "      <td>0.101714</td>\n",
       "    </tr>\n",
       "    <tr>\n",
       "      <th>11</th>\n",
       "      <td>Curricular units 2nd sem (evaluations)</td>\n",
       "      <td>0.044918</td>\n",
       "    </tr>\n",
       "    <tr>\n",
       "      <th>6</th>\n",
       "      <td>Age at enrollment</td>\n",
       "      <td>0.042369</td>\n",
       "    </tr>\n",
       "    <tr>\n",
       "      <th>5</th>\n",
       "      <td>Tuition fees up to date</td>\n",
       "      <td>0.042237</td>\n",
       "    </tr>\n",
       "    <tr>\n",
       "      <th>0</th>\n",
       "      <td>Course</td>\n",
       "      <td>0.037026</td>\n",
       "    </tr>\n",
       "    <tr>\n",
       "      <th>7</th>\n",
       "      <td>Curricular units 1st sem (evaluations)</td>\n",
       "      <td>0.036503</td>\n",
       "    </tr>\n",
       "    <tr>\n",
       "      <th>4</th>\n",
       "      <td>Father's occupation</td>\n",
       "      <td>0.034224</td>\n",
       "    </tr>\n",
       "    <tr>\n",
       "      <th>3</th>\n",
       "      <td>Mother's occupation</td>\n",
       "      <td>0.032572</td>\n",
       "    </tr>\n",
       "    <tr>\n",
       "      <th>16</th>\n",
       "      <td>GDP</td>\n",
       "      <td>0.027016</td>\n",
       "    </tr>\n",
       "    <tr>\n",
       "      <th>2</th>\n",
       "      <td>Father's qualification</td>\n",
       "      <td>0.026775</td>\n",
       "    </tr>\n",
       "    <tr>\n",
       "      <th>1</th>\n",
       "      <td>Mother's qualification</td>\n",
       "      <td>0.026482</td>\n",
       "    </tr>\n",
       "    <tr>\n",
       "      <th>14</th>\n",
       "      <td>Unemployment rate</td>\n",
       "      <td>0.025662</td>\n",
       "    </tr>\n",
       "    <tr>\n",
       "      <th>15</th>\n",
       "      <td>Inflation rate</td>\n",
       "      <td>0.025277</td>\n",
       "    </tr>\n",
       "    <tr>\n",
       "      <th>10</th>\n",
       "      <td>Curricular units 2nd sem (enrolled)</td>\n",
       "      <td>0.023914</td>\n",
       "    </tr>\n",
       "  </tbody>\n",
       "</table>\n",
       "</div>"
      ],
      "text/plain": [
       "                                   Feature  Importance\n",
       "12     Curricular units 2nd sem (approved)    0.144803\n",
       "13        Curricular units 2nd sem (grade)    0.101714\n",
       "11  Curricular units 2nd sem (evaluations)    0.044918\n",
       "6                        Age at enrollment    0.042369\n",
       "5                  Tuition fees up to date    0.042237\n",
       "0                                   Course    0.037026\n",
       "7   Curricular units 1st sem (evaluations)    0.036503\n",
       "4                      Father's occupation    0.034224\n",
       "3                      Mother's occupation    0.032572\n",
       "16                                     GDP    0.027016\n",
       "2                   Father's qualification    0.026775\n",
       "1                   Mother's qualification    0.026482\n",
       "14                       Unemployment rate    0.025662\n",
       "15                          Inflation rate    0.025277\n",
       "10     Curricular units 2nd sem (enrolled)    0.023914"
      ]
     },
     "execution_count": 688,
     "metadata": {},
     "output_type": "execute_result"
    }
   ],
   "source": [
    "#8 Curricular units 1st sem (approved)    0.094535\n",
    "#9 Curricular units 1st sem (grade)    0.070881\n",
    "selected_corr_df = selected_df.drop([8,9])\n",
    "print(\" Figure 7. Feature important final list  \")\n",
    "selected_corr_df"
   ]
  },
  {
   "cell_type": "markdown",
   "id": "57dfc3b8",
   "metadata": {},
   "source": [
    "Findings: We are now left with 15 features out of the original 35 list of features "
   ]
  },
  {
   "cell_type": "code",
   "execution_count": 689,
   "id": "c55414cd",
   "metadata": {},
   "outputs": [
    {
     "data": {
      "image/png": "[encoded data removed]",
      "text/plain": [
       "<Figure size 720x576 with 2 Axes>"
      ]
     },
     "metadata": {
      "needs_background": "light"
     },
     "output_type": "display_data"
    }
   ],
   "source": [
    "# Compute the correlation matrix\n",
    "correlation_matrix = df.corr()\n",
    "# Plot the correlation matrix as a heatmap\n",
    "plt.figure(figsize=(10, 8))\n",
    "sns.heatmap(correlation_matrix, annot=False, cmap='coolwarm', vmin=-1,vmax=1)\n",
    "plt.title('Correlation Matrix for all the features')\n",
    "plt.savefig('correlation-all-features.png',bbox_inches='tight')\n",
    "plt.show()"
   ]
  },
  {
   "cell_type": "markdown",
   "id": "17c04d06",
   "metadata": {},
   "source": [
    "Reasoning: What we want is to try identify redundant features in order to remove features from the dataset that are highly correlated. \n",
    "What we want is a table of highly correlated features with a correlation coefficient higher than 70% and an indication of which one we keep in the dataset for the machine learning models. \n",
    "\n",
    "e.g. Curricular units first semester (credited) has a correlation with Curricular units second semester (credited) which could infer that students that are doing well stay within the program and do not drop out. \n",
    "\n",
    "Next steps: Out of the correlation metrics finding a list of highly correlated items so that we can determine which ones to drop"
   ]
  },
  {
   "cell_type": "markdown",
   "id": "913e639a",
   "metadata": {},
   "source": [
    "## Additional \n",
    "\n",
    "Below: Additional information apart of data exploration may not necessarily form part of the final report. "
   ]
  },
  {
   "cell_type": "code",
   "execution_count": 690,
   "id": "4ee4536c",
   "metadata": {},
   "outputs": [
    {
     "data": {
      "image/png": "[encoded data removed]",
      "text/plain": [
       "<Figure size 360x288 with 2 Axes>"
      ]
     },
     "metadata": {
      "needs_background": "light"
     },
     "output_type": "display_data"
    }
   ],
   "source": [
    "# Compute the correlation matrix\n",
    "correlation_matrix = df[academicData1stSemester+academicData2ndSemester].corr()\n",
    "# Plot the correlation matrix as a heatmap\n",
    "plt.figure(figsize=(5, 4))\n",
    "sns.heatmap(correlation_matrix, annot=False, cmap='coolwarm', vmin=-1,vmax=1)\n",
    "plt.title('Correlation Matrix')\n",
    "plt.savefig('correlation-academic.png',bbox_inches='tight')\n",
    "plt.show()"
   ]
  },
  {
   "cell_type": "markdown",
   "id": "9e99474d",
   "metadata": {},
   "source": [
    "# Train, Test Split after feature selection"
   ]
  },
  {
   "cell_type": "code",
   "execution_count": 691,
   "id": "a8ca576b",
   "metadata": {},
   "outputs": [],
   "source": [
    "#we split the data into features (x variables) and target variable (y variable)\n",
    "x = df[selected_corr_df['Feature']]\n",
    "y = df.Target"
   ]
  },
  {
   "cell_type": "code",
   "execution_count": 692,
   "id": "bb6e1dc3",
   "metadata": {},
   "outputs": [
    {
     "data": {
      "text/plain": [
       "(4424, 15)"
      ]
     },
     "execution_count": 692,
     "metadata": {},
     "output_type": "execute_result"
    }
   ],
   "source": [
    "x.shape"
   ]
  },
  {
   "cell_type": "code",
   "execution_count": 693,
   "id": "5894bc2a",
   "metadata": {},
   "outputs": [
    {
     "data": {
      "text/plain": [
       "(4424,)"
      ]
     },
     "execution_count": 693,
     "metadata": {},
     "output_type": "execute_result"
    }
   ],
   "source": [
    "y.shape"
   ]
  },
  {
   "cell_type": "markdown",
   "id": "8638daea-82fb-4695-8e1d-c9c47084480a",
   "metadata": {},
   "source": [
    "https://scikit-learn.org/stable/modules/generated/sklearn.model_selection.train_test_split.html\n",
    "stratify is used to maintain the original distribution of classes when splitting the data, while SMOTE is used to alter the original distribution of classes to address class imbalance. They are often used together: you might first use SMOTE to oversample the minority class in your training set, then use stratified sampling to split your data into training and test sets."
   ]
  },
  {
   "cell_type": "code",
   "execution_count": 694,
   "id": "ffeaea6f",
   "metadata": {},
   "outputs": [
    {
     "name": "stdout",
     "output_type": "stream",
     "text": [
      "(3318, 15) (1106, 15) (3318,) (1106,)\n"
     ]
    }
   ],
   "source": [
    "X_train, X_test, y_train, y_test = train_test_split(x, y, random_state = 0, stratify=y)\n",
    "print(X_train.shape, X_test.shape, y_train.shape, y_test.shape) #it randomises the data set\n",
    "#but default it splits it by 75% / 25% with 75% assigned to the training data set "
   ]
  },
  {
   "cell_type": "code",
   "execution_count": 695,
   "id": "6b1b2986-6425-410f-bce0-33709e2de563",
   "metadata": {},
   "outputs": [
    {
     "data": {
      "text/plain": [
       "Graduate    1657\n",
       "Dropout     1066\n",
       "Enrolled     595\n",
       "Name: Target, dtype: int64"
      ]
     },
     "execution_count": 695,
     "metadata": {},
     "output_type": "execute_result"
    }
   ],
   "source": [
    "y_train.value_counts()"
   ]
  },
  {
   "cell_type": "code",
   "execution_count": 696,
   "id": "070f71fe-bab8-461a-ab59-8e965f56e9bf",
   "metadata": {},
   "outputs": [
    {
     "data": {
      "text/plain": [
       "Graduate    552\n",
       "Dropout     355\n",
       "Enrolled    199\n",
       "Name: Target, dtype: int64"
      ]
     },
     "execution_count": 696,
     "metadata": {},
     "output_type": "execute_result"
    }
   ],
   "source": [
    "y_test.value_counts()"
   ]
  },
  {
   "cell_type": "markdown",
   "id": "47773349",
   "metadata": {},
   "source": [
    "# Build a k-Nearest Neighbors model"
   ]
  },
  {
   "cell_type": "code",
   "execution_count": 697,
   "id": "94b29055",
   "metadata": {},
   "outputs": [
    {
     "data": {
      "text/plain": [
       "KNeighborsClassifier()"
      ]
     },
     "execution_count": 697,
     "metadata": {},
     "output_type": "execute_result"
    }
   ],
   "source": [
    "# what happens during the training > we give it the data, it saves it as apart of the training \n",
    "knn = KNeighborsClassifier (n_neighbors=5) #intialise the Classifier, uses 5 of the closest rows/data points from the data set to make a predicition \n",
    "knn.fit (X_train, y_train) # train the model, fitting the model to the data "
   ]
  },
  {
   "cell_type": "markdown",
   "id": "8105b538",
   "metadata": {},
   "source": [
    "## Evaluate the k-Nearest Neighbors model"
   ]
  },
  {
   "cell_type": "code",
   "execution_count": 698,
   "id": "39d0bb0f",
   "metadata": {},
   "outputs": [
    {
     "name": "stdout",
     "output_type": "stream",
     "text": [
      "Training set score: 0.77\n",
      "Test set score: 0.68\n"
     ]
    }
   ],
   "source": [
    "print(f\"Training set score: {knn.score(X_train, y_train):.2f}\")\n",
    "print (f\"Test set score: {knn.score (X_test, y_test):.2f}\")"
   ]
  },
  {
   "cell_type": "markdown",
   "id": "25b1dae8",
   "metadata": {},
   "source": [
    "### Optimisation Test : Loop with Distance or Uniform weighting kNN classifiers and varying numbers of neighbors "
   ]
  },
  {
   "cell_type": "markdown",
   "id": "8953c516",
   "metadata": {},
   "source": [
    "Create a loop that builds kNN classifiers with either distance or uniform weighting, with numbers of neighbors varying between 1 and 20. What is the best combination? Produce a list consisting of test accuracy, training accuracy, number of neighbors and weighting choice. The list should be sorted by test accuracy."
   ]
  },
  {
   "cell_type": "code",
   "execution_count": 699,
   "id": "96401fd2",
   "metadata": {},
   "outputs": [],
   "source": [
    "list_of_entries = []\n",
    "headers = [\"nnum_neighbors\", \"weight\", \"train_score\", \"test_score\"]\n",
    "for k in range(1,21): #outter loop for num of neighbours \n",
    "    for weight in [\"uniform\", \"distance\"]: # inner loop for weight\n",
    "        knn = KNeighborsClassifier (n_neighbors=k, weights= weight)\n",
    "        knn.fit (X_train, y_train)\n",
    "        entry = [k, weight, knn.score(X_train, y_train), knn.score(X_test,y_test)]\n",
    "        list_of_entries.append(entry)"
   ]
  },
  {
   "cell_type": "code",
   "execution_count": 700,
   "id": "1ac3bee6",
   "metadata": {
    "scrolled": true
   },
   "outputs": [
    {
     "name": "stdout",
     "output_type": "stream",
     "text": [
      "Optimisation test using a nested For loop for kNN\n"
     ]
    },
    {
     "data": {
      "text/html": [
       "<div>\n",
       "<style scoped>\n",
       "    .dataframe tbody tr th:only-of-type {\n",
       "        vertical-align: middle;\n",
       "    }\n",
       "\n",
       "    .dataframe tbody tr th {\n",
       "        vertical-align: top;\n",
       "    }\n",
       "\n",
       "    .dataframe thead th {\n",
       "        text-align: right;\n",
       "    }\n",
       "</style>\n",
       "<table border=\"1\" class=\"dataframe\">\n",
       "  <thead>\n",
       "    <tr style=\"text-align: right;\">\n",
       "      <th></th>\n",
       "      <th>nnum_neighbors</th>\n",
       "      <th>weight</th>\n",
       "      <th>train_score</th>\n",
       "      <th>test_score</th>\n",
       "    </tr>\n",
       "  </thead>\n",
       "  <tbody>\n",
       "    <tr>\n",
       "      <th>20</th>\n",
       "      <td>11</td>\n",
       "      <td>uniform</td>\n",
       "      <td>0.734479</td>\n",
       "      <td>0.705244</td>\n",
       "    </tr>\n",
       "    <tr>\n",
       "      <th>19</th>\n",
       "      <td>10</td>\n",
       "      <td>distance</td>\n",
       "      <td>1.000000</td>\n",
       "      <td>0.699819</td>\n",
       "    </tr>\n",
       "    <tr>\n",
       "      <th>21</th>\n",
       "      <td>11</td>\n",
       "      <td>distance</td>\n",
       "      <td>1.000000</td>\n",
       "      <td>0.698915</td>\n",
       "    </tr>\n",
       "    <tr>\n",
       "      <th>23</th>\n",
       "      <td>12</td>\n",
       "      <td>distance</td>\n",
       "      <td>1.000000</td>\n",
       "      <td>0.698011</td>\n",
       "    </tr>\n",
       "    <tr>\n",
       "      <th>25</th>\n",
       "      <td>13</td>\n",
       "      <td>distance</td>\n",
       "      <td>1.000000</td>\n",
       "      <td>0.698011</td>\n",
       "    </tr>\n",
       "    <tr>\n",
       "      <th>24</th>\n",
       "      <td>13</td>\n",
       "      <td>uniform</td>\n",
       "      <td>0.724533</td>\n",
       "      <td>0.698011</td>\n",
       "    </tr>\n",
       "    <tr>\n",
       "      <th>27</th>\n",
       "      <td>14</td>\n",
       "      <td>distance</td>\n",
       "      <td>1.000000</td>\n",
       "      <td>0.696203</td>\n",
       "    </tr>\n",
       "    <tr>\n",
       "      <th>18</th>\n",
       "      <td>10</td>\n",
       "      <td>uniform</td>\n",
       "      <td>0.738397</td>\n",
       "      <td>0.696203</td>\n",
       "    </tr>\n",
       "    <tr>\n",
       "      <th>11</th>\n",
       "      <td>6</td>\n",
       "      <td>distance</td>\n",
       "      <td>1.000000</td>\n",
       "      <td>0.695298</td>\n",
       "    </tr>\n",
       "    <tr>\n",
       "      <th>15</th>\n",
       "      <td>8</td>\n",
       "      <td>distance</td>\n",
       "      <td>1.000000</td>\n",
       "      <td>0.695298</td>\n",
       "    </tr>\n",
       "  </tbody>\n",
       "</table>\n",
       "</div>"
      ],
      "text/plain": [
       "    nnum_neighbors    weight  train_score  test_score\n",
       "20              11   uniform     0.734479    0.705244\n",
       "19              10  distance     1.000000    0.699819\n",
       "21              11  distance     1.000000    0.698915\n",
       "23              12  distance     1.000000    0.698011\n",
       "25              13  distance     1.000000    0.698011\n",
       "24              13   uniform     0.724533    0.698011\n",
       "27              14  distance     1.000000    0.696203\n",
       "18              10   uniform     0.738397    0.696203\n",
       "11               6  distance     1.000000    0.695298\n",
       "15               8  distance     1.000000    0.695298"
      ]
     },
     "execution_count": 700,
     "metadata": {},
     "output_type": "execute_result"
    }
   ],
   "source": [
    "dfOpt2 = pd.DataFrame(list_of_entries, columns= headers)\n",
    "print(\"Optimisation test using a nested For loop for kNN\")\n",
    "dfOpt2.sort_values(by=[\"test_score\",\"train_score\"], ascending=False).head(10)"
   ]
  },
  {
   "cell_type": "markdown",
   "id": "b24cd42e",
   "metadata": {},
   "source": [
    "Findings: After optimisation the above results show that nearest neighbours 13 with weight parameter of type distance provides the best score. However the train_score is almost 1 which could mean that there is overfitting ( we need to check this to be sure)."
   ]
  },
  {
   "cell_type": "markdown",
   "id": "00876801",
   "metadata": {},
   "source": [
    "### Results: confusion matrix for Knn \n",
    "\n",
    "To analyse the quality of the model\n",
    "https://towardsdatascience.com/performance-metrics-confusion-matrix-precision-recall-and-f1-score-a8fe076a2262"
   ]
  },
  {
   "cell_type": "code",
   "execution_count": 701,
   "id": "aa15711f",
   "metadata": {},
   "outputs": [],
   "source": [
    "# Define class labels\n",
    "class_labels = ['Graduate', \"Dropout\", 'Enrolled']\n",
    "def plot_confusion_matrix( y_test, y_pred, filename):\n",
    "    cm = confusion_matrix(y_test, y_pred,labels=class_labels)\n",
    "    plt.imshow(cm, interpolation='nearest', cmap=plt.cm.Greens)\n",
    "    #plt.title('Confusion Matrix')\n",
    "    plt.colorbar()\n",
    "    tick_marks = np.arange(len(class_labels))\n",
    "    plt.xticks(tick_marks, class_labels)\n",
    "    plt.yticks(tick_marks, class_labels)\n",
    "    plt.xlabel('Predicted Label')\n",
    "    plt.ylabel('True Label')\n",
    "    thresh = cm.max() / 2.\n",
    "    for i, j in np.ndindex(cm.shape):\n",
    "        plt.text(j, i, format(cm[i, j], 'd'),\n",
    "                 horizontalalignment='center',\n",
    "                 color='white' if cm[i, j] > thresh else 'black')\n",
    "\n",
    "    plt.tight_layout()\n",
    "    plt.savefig( filename, bbox_inches='tight')\n",
    "    plt.show()"
   ]
  },
  {
   "cell_type": "code",
   "execution_count": 704,
   "id": "65795d58",
   "metadata": {},
   "outputs": [
    {
     "name": "stdout",
     "output_type": "stream",
     "text": [
      "Confusion matrix kNN after optimisation \n"
     ]
    },
    {
     "data": {
      "image/png": "[encoded data removed]",
      "text/plain": [
       "<Figure size 432x288 with 2 Axes>"
      ]
     },
     "metadata": {
      "needs_background": "light"
     },
     "output_type": "display_data"
    }
   ],
   "source": [
    "knn = KNeighborsClassifier (n_neighbors=11, weights= 'uniform')\n",
    "knn.fit (X_train, y_train)  \n",
    "# Make predictions on the test data\n",
    "y_pred = knn.predict(X_test)\n",
    "print(\"Confusion matrix kNN after optimisation \")\n",
    "plot_confusion_matrix( y_test, y_pred, 'confusion-knn.png')"
   ]
  },
  {
   "cell_type": "code",
   "execution_count": 705,
   "id": "ac490b8d",
   "metadata": {},
   "outputs": [
    {
     "name": "stdout",
     "output_type": "stream",
     "text": [
      "Classification Report kNN\n",
      "\n",
      "              precision    recall  f1-score   support\n",
      "\n",
      "    Graduate       0.70      0.91      0.79       552\n",
      "     Dropout       0.81      0.63      0.71       355\n",
      "    Enrolled       0.49      0.28      0.35       199\n",
      "\n",
      "    accuracy                           0.71      1106\n",
      "   macro avg       0.67      0.60      0.62      1106\n",
      "weighted avg       0.70      0.71      0.69      1106\n",
      "\n"
     ]
    }
   ],
   "source": [
    "#https://towardsdatascience.com/multi-class-metrics-made-simple-part-i-precision-and-recall-9250280bddc2\n",
    "print(\"Classification Report kNN\\n\")\n",
    "print(classification_report(y_test,y_pred,labels=class_labels))"
   ]
  },
  {
   "cell_type": "markdown",
   "id": "b059cb29",
   "metadata": {},
   "source": [
    "Workflow: We created the machine learning model and optimise it based on the score and afterwards plot of a confusion matrix. "
   ]
  },
  {
   "cell_type": "markdown",
   "id": "2c75719a",
   "metadata": {},
   "source": [
    "https://scikit-learn.org/stable/modules/generated/sklearn.metrics.f1_score.html#sklearn.metrics.f1_score"
   ]
  },
  {
   "cell_type": "markdown",
   "id": "20213bc5",
   "metadata": {},
   "source": [
    "Findings: \n",
    "\n",
    "The goal in terms of precision, recall and the F1 score:\n",
    "\n",
    "Our reasoning is that we don't want the model to miss any dropouts; this would be unwanted  since if someone is a dropout and labelled as a graduate, the student will not be indented to be included in any support interventions. This translates to the recall for the dropouts needing to be a high value ( i.e larger than 1, so we need to optimise it) and most important in our valuation of the models. \n",
    "\n",
    "Refocusing on the use case for this model: \n",
    "\n",
    "To identify drops to help design support interventions, e.g to send mentor invitations for potential drops. If the model incorrectly identified future graduates as dropouts, then what would really be the impact if the future graduate may receive a mentoring invitation for support. \n"
   ]
  },
  {
   "cell_type": "markdown",
   "id": "a59d5930",
   "metadata": {},
   "source": [
    "# Build a Linear model for classification: LogisticRegression classifier "
   ]
  },
  {
   "cell_type": "markdown",
   "id": "589356ad",
   "metadata": {},
   "source": [
    "Findings: Due to there being 3 target values the Logistic Regression classifier model has to be of type multinomial"
   ]
  },
  {
   "cell_type": "code",
   "execution_count": 706,
   "id": "1760031a",
   "metadata": {},
   "outputs": [
    {
     "name": "stdout",
     "output_type": "stream",
     "text": [
      "Training set score: 0.759\n",
      "Test set score: 0.759\n"
     ]
    }
   ],
   "source": [
    "logreg = LogisticRegression(max_iter = 1000,multi_class='multinomial'\n",
    "                           ).fit(X_train, y_train)\n",
    "print(\"Training set score: {:.3f}\".format(logreg.score(X_train, y_train)))\n",
    "print(\"Test set score: {:.3f}\".format(logreg.score(X_test, y_test)))"
   ]
  },
  {
   "cell_type": "markdown",
   "id": "487137f1",
   "metadata": {},
   "source": [
    "Print the three features with the highest coefficients -- these are the features which the model most strongly links with the target value. \n"
   ]
  },
  {
   "cell_type": "markdown",
   "id": "a3a5849b",
   "metadata": {},
   "source": [
    "### Optimisation Test 1 :  Test using different values of C for a Logistic Regression model "
   ]
  },
  {
   "cell_type": "markdown",
   "id": "e6282fc1",
   "metadata": {},
   "source": [
    "Try different values of C for a Logistic Regression model with the same data. Give results sorted by test accuracy. Each line of the output should include test accuracy, training accuracy, and C value."
   ]
  },
  {
   "cell_type": "code",
   "execution_count": 707,
   "id": "6c0dec33",
   "metadata": {},
   "outputs": [],
   "source": [
    "#https://scikit-learn.org/stable/modules/generated/sklearn.linear_model.LogisticRegression.html#sklearn.linear_model.LogisticRegression"
   ]
  },
  {
   "cell_type": "code",
   "execution_count": 708,
   "id": "3554d386",
   "metadata": {},
   "outputs": [],
   "source": [
    "list_of_entries = []\n",
    "headers = [\"C\", \"train_score\", \"test_score\"]\n",
    "for Cc in [0.001,0.01, 0.1, 1,10, 100,1000,10000]: #outter loop for C parameter\n",
    "    logreg = LogisticRegression(C = Cc, max_iter = 1000).fit(X_train, y_train)\n",
    "    entry = [Cc, logreg.score(X_train, y_train), logreg.score(X_test,y_test)]\n",
    "    list_of_entries.append(entry)"
   ]
  },
  {
   "cell_type": "code",
   "execution_count": 709,
   "id": "1451a62f",
   "metadata": {},
   "outputs": [
    {
     "data": {
      "text/html": [
       "<div>\n",
       "<style scoped>\n",
       "    .dataframe tbody tr th:only-of-type {\n",
       "        vertical-align: middle;\n",
       "    }\n",
       "\n",
       "    .dataframe tbody tr th {\n",
       "        vertical-align: top;\n",
       "    }\n",
       "\n",
       "    .dataframe thead th {\n",
       "        text-align: right;\n",
       "    }\n",
       "</style>\n",
       "<table border=\"1\" class=\"dataframe\">\n",
       "  <thead>\n",
       "    <tr style=\"text-align: right;\">\n",
       "      <th></th>\n",
       "      <th>C</th>\n",
       "      <th>train_score</th>\n",
       "      <th>test_score</th>\n",
       "    </tr>\n",
       "  </thead>\n",
       "  <tbody>\n",
       "    <tr>\n",
       "      <th>5</th>\n",
       "      <td>100.000</td>\n",
       "      <td>0.758891</td>\n",
       "      <td>0.760398</td>\n",
       "    </tr>\n",
       "    <tr>\n",
       "      <th>3</th>\n",
       "      <td>1.000</td>\n",
       "      <td>0.759192</td>\n",
       "      <td>0.759494</td>\n",
       "    </tr>\n",
       "    <tr>\n",
       "      <th>2</th>\n",
       "      <td>0.100</td>\n",
       "      <td>0.758891</td>\n",
       "      <td>0.759494</td>\n",
       "    </tr>\n",
       "    <tr>\n",
       "      <th>4</th>\n",
       "      <td>10.000</td>\n",
       "      <td>0.758891</td>\n",
       "      <td>0.759494</td>\n",
       "    </tr>\n",
       "    <tr>\n",
       "      <th>7</th>\n",
       "      <td>10000.000</td>\n",
       "      <td>0.758891</td>\n",
       "      <td>0.759494</td>\n",
       "    </tr>\n",
       "    <tr>\n",
       "      <th>6</th>\n",
       "      <td>1000.000</td>\n",
       "      <td>0.758891</td>\n",
       "      <td>0.758590</td>\n",
       "    </tr>\n",
       "    <tr>\n",
       "      <th>1</th>\n",
       "      <td>0.010</td>\n",
       "      <td>0.748041</td>\n",
       "      <td>0.745931</td>\n",
       "    </tr>\n",
       "    <tr>\n",
       "      <th>0</th>\n",
       "      <td>0.001</td>\n",
       "      <td>0.729958</td>\n",
       "      <td>0.723327</td>\n",
       "    </tr>\n",
       "  </tbody>\n",
       "</table>\n",
       "</div>"
      ],
      "text/plain": [
       "           C  train_score  test_score\n",
       "5    100.000     0.758891    0.760398\n",
       "3      1.000     0.759192    0.759494\n",
       "2      0.100     0.758891    0.759494\n",
       "4     10.000     0.758891    0.759494\n",
       "7  10000.000     0.758891    0.759494\n",
       "6   1000.000     0.758891    0.758590\n",
       "1      0.010     0.748041    0.745931\n",
       "0      0.001     0.729958    0.723327"
      ]
     },
     "execution_count": 709,
     "metadata": {},
     "output_type": "execute_result"
    }
   ],
   "source": [
    "dfOpt3 = pd.DataFrame(list_of_entries, columns= headers)\n",
    "dfOpt3.sort_values(by=[\"test_score\",\"train_score\"], ascending=False).head(15)"
   ]
  },
  {
   "cell_type": "code",
   "execution_count": 710,
   "id": "3bf74e11-fef0-4093-9bd9-c3ad4e4d6d39",
   "metadata": {},
   "outputs": [
    {
     "name": "stdout",
     "output_type": "stream",
     "text": [
      "Best parameters:  {'C': 0.1, 'max_iter': 1000}\n",
      "Best cross-validation score:  0.7543654255029166\n",
      "Training set score:  0.7588908981314044\n",
      "Test set score:  0.759493670886076\n"
     ]
    }
   ],
   "source": [
    "from sklearn.model_selection import GridSearchCV\n",
    "\n",
    "\n",
    "# Define the parameter grid\n",
    "param_grid = {'C': [0.001, 0.01, 0.1, 1, 10, 100, 1000, 10000], 'max_iter': [1000]}\n",
    "\n",
    "# Initialize the logistic regression classifier\n",
    "logreg = LogisticRegression()\n",
    "\n",
    "# Initialize GridSearchCV with 5-fold cross validation\n",
    "grid = GridSearchCV(logreg, param_grid, cv=5)\n",
    "\n",
    "# Fit grid on data\n",
    "grid.fit(X_train, y_train)\n",
    "\n",
    "# Print best parameters and scores\n",
    "print(\"Best parameters: \", grid.best_params_)\n",
    "print(\"Best cross-validation score: \", grid.best_score_)\n",
    "print(\"Training set score: \", grid.score(X_train, y_train))\n",
    "print(\"Test set score: \", grid.score(X_test, y_test))\n"
   ]
  },
  {
   "cell_type": "markdown",
   "id": "04b1a0c8",
   "metadata": {},
   "source": [
    "Findings: The optimisation did not improve the test score much. We will\n",
    "use the optimisted parameter C value = 0.100 "
   ]
  },
  {
   "cell_type": "markdown",
   "id": "d5c54354",
   "metadata": {},
   "source": [
    "### Results: confusion matrix for Multinomial LogisticRegression \n",
    "\n",
    "To analyse the quality of the model\n",
    "https://towardsdatascience.com/performance-metrics-confusion-matrix-precision-recall-and-f1-score-a8fe076a2262"
   ]
  },
  {
   "cell_type": "code",
   "execution_count": 711,
   "id": "f3220fe4",
   "metadata": {},
   "outputs": [
    {
     "name": "stdout",
     "output_type": "stream",
     "text": [
      " Confusion matrix Logistic Regression after optimisation test\n"
     ]
    },
    {
     "data": {
      "image/png": "[encoded data removed]",
      "text/plain": [
       "<Figure size 432x288 with 2 Axes>"
      ]
     },
     "metadata": {
      "needs_background": "light"
     },
     "output_type": "display_data"
    }
   ],
   "source": [
    "model = LogisticRegression(max_iter = 1000, C= 100, multi_class='multinomial')\n",
    "model.fit(X_train, y_train)\n",
    "# Make predictions on the test data\n",
    "y_pred = model.predict(X_test)\n",
    "print(\" Confusion matrix Logistic Regression after optimisation test\")\n",
    "plot_confusion_matrix( y_test, y_pred, 'confusion-logreg.png')"
   ]
  },
  {
   "cell_type": "code",
   "execution_count": 712,
   "id": "cc4f642b",
   "metadata": {},
   "outputs": [
    {
     "name": "stdout",
     "output_type": "stream",
     "text": [
      "Classification Report Logistic Regression\n",
      "\n",
      "              precision    recall  f1-score   support\n",
      "\n",
      "    Graduate       0.77      0.93      0.85       552\n",
      "     Dropout       0.83      0.74      0.79       355\n",
      "    Enrolled       0.50      0.32      0.39       199\n",
      "\n",
      "    accuracy                           0.76      1106\n",
      "   macro avg       0.70      0.66      0.67      1106\n",
      "weighted avg       0.74      0.76      0.74      1106\n",
      "\n"
     ]
    }
   ],
   "source": [
    "#https://towardsdatascience.com/multi-class-metrics-made-simple-part-i-precision-and-recall-9250280bddc2\n",
    "print(\"Classification Report Logistic Regression\\n\")\n",
    "print(classification_report(y_test,y_pred,labels=class_labels))"
   ]
  },
  {
   "cell_type": "markdown",
   "id": "f2ab3f84",
   "metadata": {},
   "source": [
    "Findings:\n",
    "kNN has a worse recall when compared to Logistic Regression "
   ]
  },
  {
   "cell_type": "markdown",
   "id": "ac68806e",
   "metadata": {},
   "source": [
    "## Build Random forest models "
   ]
  },
  {
   "cell_type": "code",
   "execution_count": 713,
   "id": "dce027ba",
   "metadata": {},
   "outputs": [],
   "source": [
    "# Construct a random forest classifier for this data. Report train and test accuracy."
   ]
  },
  {
   "cell_type": "code",
   "execution_count": 726,
   "id": "039c383f",
   "metadata": {},
   "outputs": [
    {
     "name": "stdout",
     "output_type": "stream",
     "text": [
      "Accuracy on training set: 0.761\n",
      "Accuracy on test set: 0.750\n"
     ]
    }
   ],
   "source": [
    "forest = RandomForestClassifier(n_estimators=100,max_depth=5)# build the forest classifer\n",
    "forest.fit(X_train, y_train) # train model \n",
    "print(\"Accuracy on training set: {:.3f}\".format(forest.score(X_train, y_train)))\n",
    "print(\"Accuracy on test set: {:.3f}\".format(forest.score(X_test, y_test)))"
   ]
  },
  {
   "cell_type": "markdown",
   "id": "684a7964",
   "metadata": {},
   "source": [
    "Note: Max depth was set to 5 to prevent overfitting"
   ]
  },
  {
   "cell_type": "code",
   "execution_count": 727,
   "id": "7f009c9d",
   "metadata": {},
   "outputs": [],
   "source": [
    "# we give a tree a 'disadvantage', we dont give a tree everything \n",
    "# a selection of data (rows and columns) \n",
    "# but then each tree has to take a different look at the data "
   ]
  },
  {
   "cell_type": "code",
   "execution_count": 728,
   "id": "8fd9c79e",
   "metadata": {},
   "outputs": [
    {
     "data": {
      "text/html": [
       "<div>\n",
       "<style scoped>\n",
       "    .dataframe tbody tr th:only-of-type {\n",
       "        vertical-align: middle;\n",
       "    }\n",
       "\n",
       "    .dataframe tbody tr th {\n",
       "        vertical-align: top;\n",
       "    }\n",
       "\n",
       "    .dataframe thead th {\n",
       "        text-align: right;\n",
       "    }\n",
       "</style>\n",
       "<table border=\"1\" class=\"dataframe\">\n",
       "  <thead>\n",
       "    <tr style=\"text-align: right;\">\n",
       "      <th></th>\n",
       "      <th>n_estimators</th>\n",
       "      <th>Train_score</th>\n",
       "      <th>Test_score</th>\n",
       "    </tr>\n",
       "  </thead>\n",
       "  <tbody>\n",
       "    <tr>\n",
       "      <th>18</th>\n",
       "      <td>380</td>\n",
       "      <td>0.758891</td>\n",
       "      <td>0.750452</td>\n",
       "    </tr>\n",
       "    <tr>\n",
       "      <th>17</th>\n",
       "      <td>360</td>\n",
       "      <td>0.758891</td>\n",
       "      <td>0.749548</td>\n",
       "    </tr>\n",
       "    <tr>\n",
       "      <th>19</th>\n",
       "      <td>400</td>\n",
       "      <td>0.757987</td>\n",
       "      <td>0.749548</td>\n",
       "    </tr>\n",
       "    <tr>\n",
       "      <th>16</th>\n",
       "      <td>340</td>\n",
       "      <td>0.759494</td>\n",
       "      <td>0.748644</td>\n",
       "    </tr>\n",
       "    <tr>\n",
       "      <th>20</th>\n",
       "      <td>420</td>\n",
       "      <td>0.757685</td>\n",
       "      <td>0.748644</td>\n",
       "    </tr>\n",
       "    <tr>\n",
       "      <th>12</th>\n",
       "      <td>260</td>\n",
       "      <td>0.761302</td>\n",
       "      <td>0.747740</td>\n",
       "    </tr>\n",
       "    <tr>\n",
       "      <th>10</th>\n",
       "      <td>220</td>\n",
       "      <td>0.761001</td>\n",
       "      <td>0.747740</td>\n",
       "    </tr>\n",
       "    <tr>\n",
       "      <th>14</th>\n",
       "      <td>300</td>\n",
       "      <td>0.760398</td>\n",
       "      <td>0.747740</td>\n",
       "    </tr>\n",
       "    <tr>\n",
       "      <th>15</th>\n",
       "      <td>320</td>\n",
       "      <td>0.759192</td>\n",
       "      <td>0.747740</td>\n",
       "    </tr>\n",
       "    <tr>\n",
       "      <th>21</th>\n",
       "      <td>440</td>\n",
       "      <td>0.758590</td>\n",
       "      <td>0.747740</td>\n",
       "    </tr>\n",
       "    <tr>\n",
       "      <th>24</th>\n",
       "      <td>500</td>\n",
       "      <td>0.758288</td>\n",
       "      <td>0.746835</td>\n",
       "    </tr>\n",
       "    <tr>\n",
       "      <th>22</th>\n",
       "      <td>460</td>\n",
       "      <td>0.757987</td>\n",
       "      <td>0.746835</td>\n",
       "    </tr>\n",
       "    <tr>\n",
       "      <th>7</th>\n",
       "      <td>160</td>\n",
       "      <td>0.760096</td>\n",
       "      <td>0.745931</td>\n",
       "    </tr>\n",
       "    <tr>\n",
       "      <th>23</th>\n",
       "      <td>480</td>\n",
       "      <td>0.758590</td>\n",
       "      <td>0.745931</td>\n",
       "    </tr>\n",
       "    <tr>\n",
       "      <th>11</th>\n",
       "      <td>240</td>\n",
       "      <td>0.761001</td>\n",
       "      <td>0.745027</td>\n",
       "    </tr>\n",
       "    <tr>\n",
       "      <th>13</th>\n",
       "      <td>280</td>\n",
       "      <td>0.761001</td>\n",
       "      <td>0.744123</td>\n",
       "    </tr>\n",
       "    <tr>\n",
       "      <th>9</th>\n",
       "      <td>200</td>\n",
       "      <td>0.760096</td>\n",
       "      <td>0.744123</td>\n",
       "    </tr>\n",
       "    <tr>\n",
       "      <th>5</th>\n",
       "      <td>120</td>\n",
       "      <td>0.757083</td>\n",
       "      <td>0.744123</td>\n",
       "    </tr>\n",
       "    <tr>\n",
       "      <th>4</th>\n",
       "      <td>100</td>\n",
       "      <td>0.757685</td>\n",
       "      <td>0.742315</td>\n",
       "    </tr>\n",
       "    <tr>\n",
       "      <th>8</th>\n",
       "      <td>180</td>\n",
       "      <td>0.758288</td>\n",
       "      <td>0.741410</td>\n",
       "    </tr>\n",
       "    <tr>\n",
       "      <th>6</th>\n",
       "      <td>140</td>\n",
       "      <td>0.756781</td>\n",
       "      <td>0.741410</td>\n",
       "    </tr>\n",
       "    <tr>\n",
       "      <th>0</th>\n",
       "      <td>20</td>\n",
       "      <td>0.759494</td>\n",
       "      <td>0.740506</td>\n",
       "    </tr>\n",
       "    <tr>\n",
       "      <th>2</th>\n",
       "      <td>60</td>\n",
       "      <td>0.754973</td>\n",
       "      <td>0.740506</td>\n",
       "    </tr>\n",
       "    <tr>\n",
       "      <th>1</th>\n",
       "      <td>40</td>\n",
       "      <td>0.758590</td>\n",
       "      <td>0.739602</td>\n",
       "    </tr>\n",
       "    <tr>\n",
       "      <th>3</th>\n",
       "      <td>80</td>\n",
       "      <td>0.756178</td>\n",
       "      <td>0.739602</td>\n",
       "    </tr>\n",
       "  </tbody>\n",
       "</table>\n",
       "</div>"
      ],
      "text/plain": [
       "    n_estimators  Train_score  Test_score\n",
       "18           380     0.758891    0.750452\n",
       "17           360     0.758891    0.749548\n",
       "19           400     0.757987    0.749548\n",
       "16           340     0.759494    0.748644\n",
       "20           420     0.757685    0.748644\n",
       "12           260     0.761302    0.747740\n",
       "10           220     0.761001    0.747740\n",
       "14           300     0.760398    0.747740\n",
       "15           320     0.759192    0.747740\n",
       "21           440     0.758590    0.747740\n",
       "24           500     0.758288    0.746835\n",
       "22           460     0.757987    0.746835\n",
       "7            160     0.760096    0.745931\n",
       "23           480     0.758590    0.745931\n",
       "11           240     0.761001    0.745027\n",
       "13           280     0.761001    0.744123\n",
       "9            200     0.760096    0.744123\n",
       "5            120     0.757083    0.744123\n",
       "4            100     0.757685    0.742315\n",
       "8            180     0.758288    0.741410\n",
       "6            140     0.756781    0.741410\n",
       "0             20     0.759494    0.740506\n",
       "2             60     0.754973    0.740506\n",
       "1             40     0.758590    0.739602\n",
       "3             80     0.756178    0.739602"
      ]
     },
     "execution_count": 728,
     "metadata": {},
     "output_type": "execute_result"
    }
   ],
   "source": [
    "list_of_entries = []\n",
    "#headers\n",
    "headers = [\"n_estimators\", \"Train_score\", \"Test_score\"]\n",
    "for count in range (20,501,20): #20 at each iteration\n",
    "    forest = RandomForestClassifier(n_estimators=count, random_state=2, max_depth=5)# build the forest classifer\n",
    "    forest.fit(X_train, y_train) # train model \n",
    "    #print(\"Accuracy on training set: {:.3f}\".format(forest.score(X_train, y_train)))\n",
    "    #print(\"Accuracy on test set: {:.3f}\".format(forest.score(X_test, y_test)))\n",
    "    entry = [count, forest.score(X_train, y_train), forest.score(X_test,y_test)] #adding the scores to variable\n",
    "    list_of_entries.append(entry)\n",
    "df = pd.DataFrame(list_of_entries, columns= headers)\n",
    "df.sort_values(by=[\"Test_score\",\"Train_score\"], ascending=False)"
   ]
  },
  {
   "cell_type": "markdown",
   "id": "9cc2dd1b",
   "metadata": {},
   "source": [
    "Create a line plot of train and test scores for each value of the number of estimators, by completing the following code."
   ]
  },
  {
   "cell_type": "code",
   "execution_count": 729,
   "id": "eecc707d",
   "metadata": {},
   "outputs": [
    {
     "data": {
      "image/png": "[encoded data removed]",
      "text/plain": [
       "<Figure size 432x288 with 1 Axes>"
      ]
     },
     "metadata": {
      "needs_background": "light"
     },
     "output_type": "display_data"
    },
    {
     "data": {
      "image/png": "[encoded data removed]",
      "text/plain": [
       "<Figure size 432x288 with 1 Axes>"
      ]
     },
     "metadata": {
      "needs_background": "light"
     },
     "output_type": "display_data"
    }
   ],
   "source": [
    "# first just plot test scores\n",
    "# x axis - a list of the values for number of estimators\n",
    "x = df.n_estimators\n",
    "# two arguments to plot are the x axis values and the y axis values\n",
    "# y axis - list of test scores\n",
    "plt.plot(x, df.Test_score)\n",
    "# finally, to show the plots\n",
    "plt.show('')"
   ]
  },
  {
   "cell_type": "markdown",
   "id": "2dc25b81",
   "metadata": {},
   "source": [
    "Note: This is the table data visualised, 320 is the max"
   ]
  },
  {
   "cell_type": "code",
   "execution_count": 730,
   "id": "e782448d",
   "metadata": {},
   "outputs": [
    {
     "data": {
      "image/png": "[encoded data removed]",
      "text/plain": [
       "<Figure size 432x288 with 1 Axes>"
      ]
     },
     "metadata": {
      "needs_background": "light"
     },
     "output_type": "display_data"
    }
   ],
   "source": [
    "# now plot train and test scores\n",
    "# x axis - a list of the values for number of estimators\n",
    "x = df.n_estimators\n",
    "# y axis - list of Test scores\n",
    "# two arguments to plot are the x axis values and the y axis values\n",
    "plt.plot(x , df.Test_score)\n",
    "# do another plot, with same x axis, and on the y axis - list of train scores\n",
    "plt.plot(x, df.Train_score)\n",
    "plt.savefig('logistic.png')\n",
    "# finally, to show the plots\n",
    "plt.show()\n"
   ]
  },
  {
   "cell_type": "markdown",
   "id": "0b9b3510",
   "metadata": {},
   "source": [
    "## Results: confusion matrix for Random Forest Classifier"
   ]
  },
  {
   "cell_type": "code",
   "execution_count": 731,
   "id": "c6ea05e4",
   "metadata": {},
   "outputs": [
    {
     "name": "stdout",
     "output_type": "stream",
     "text": [
      " Confusion matrix Random Forest after optimisation test\n"
     ]
    },
    {
     "data": {
      "image/png": "[encoded data removed]",
      "text/plain": [
       "<Figure size 432x288 with 2 Axes>"
      ]
     },
     "metadata": {
      "needs_background": "light"
     },
     "output_type": "display_data"
    },
    {
     "name": "stdout",
     "output_type": "stream",
     "text": [
      "Classification Report Random Forest\n",
      "\n",
      "              precision    recall  f1-score   support\n",
      "\n",
      "    Graduate       0.76      0.94      0.84       552\n",
      "     Dropout       0.77      0.77      0.77       355\n",
      "    Enrolled       0.57      0.20      0.29       199\n",
      "\n",
      "    accuracy                           0.75      1106\n",
      "   macro avg       0.70      0.63      0.63      1106\n",
      "weighted avg       0.73      0.75      0.72      1106\n",
      "\n"
     ]
    }
   ],
   "source": [
    "model = RandomForestClassifier(n_estimators=380, random_state=2, max_depth=5)\n",
    "model.fit(X_train, y_train)\n",
    "# Make predictions on the test data\n",
    "y_pred = model.predict(X_test)\n",
    "print(\" Confusion matrix Random Forest after optimisation test\")\n",
    "plot_confusion_matrix( y_test, y_pred, 'confusion-forest.png')\n",
    "print(\"Classification Report Random Forest\\n\")\n",
    "print(classification_report(y_test,y_pred,labels=class_labels))"
   ]
  },
  {
   "cell_type": "markdown",
   "id": "5d7a5590",
   "metadata": {},
   "source": [
    "### Opitimsation 2: scaled version of the data, using Standard Scaler"
   ]
  },
  {
   "cell_type": "code",
   "execution_count": 732,
   "id": "20acb5c7",
   "metadata": {},
   "outputs": [],
   "source": [
    "# this instantiate an object of StandardScaler, this means it creates a 'workspace/tool' in my sklearn 'toolbox' \n",
    "scaler = StandardScaler()\n",
    "# now we show the scaler the data, to say look at this \n",
    "scaler.fit(X_train) \n",
    "\n",
    "# now we apply the scaler to the training set\n",
    "X_train_scaled = scaler.transform(X_train) \n",
    "\n",
    "# now we apply the scaler to the test set\n",
    "#if we use a scaler we need to remember to create Train and Test that is scaled\n",
    "X_test_scaled = scaler.transform(X_test) "
   ]
  },
  {
   "cell_type": "code",
   "execution_count": 733,
   "id": "9a3309fc",
   "metadata": {},
   "outputs": [],
   "source": [
    "#wanted to see it in pf format which is nicer to read \n",
    "#created as a dataframe\n",
    "list_of_entries = []\n",
    "headers = [\"n_estimators\", \"Train_score\", \"Test_score\"]\n",
    "\n",
    "for count in range(2, 20, 2):\n",
    "    forest = RandomForestClassifier(n_estimators=count, random_state=2, max_depth=5)\n",
    "    forest.fit(X_train_scaled, y_train)\n",
    "    train_score = forest.score(X_train_scaled, y_train)\n",
    "    test_score = forest.score(X_test_scaled, y_test)\n",
    "    entry = [count, train_score, test_score]\n",
    "    list_of_entries.append(entry)\n",
    "\n",
    "df2 = pd.DataFrame(list_of_entries, columns=headers)\n",
    "df2.sort_values(by=[\"Test_score\", \"Train_score\"], ascending=False, inplace=True)"
   ]
  },
  {
   "cell_type": "code",
   "execution_count": 734,
   "id": "ef59b9b2",
   "metadata": {},
   "outputs": [],
   "source": [
    "# https://scikit-learn.org/stable/modules/generated/sklearn.preprocessing.StandardScaler.html\n",
    "# z = (x - u) / s\n",
    "# x rep one column/feature \n",
    "# u is the mean \n",
    "# s is the spread \n",
    "# we learn that there is a transformation of the column to be treated equally to all other columns see lin18\n",
    "# compare above 'output2' to 'output 4', we see:\n",
    "# it makes to values centered around zero and equally spread around zero \n",
    "# so StandardScaler is really effecting the concept of Standard deviation and not Standardising anything \n",
    "# that the concept I think we needed to understand here "
   ]
  },
  {
   "cell_type": "markdown",
   "id": "ea7c8e83",
   "metadata": {},
   "source": [
    "Build two versions of a default random forest model, using the normal data (X_train, X_test) and the scaled data (X_train_scaled, X_test_scaled). Print train and test scores for normal and scaled."
   ]
  },
  {
   "cell_type": "code",
   "execution_count": 735,
   "id": "0c1ae722",
   "metadata": {},
   "outputs": [
    {
     "data": {
      "text/plain": [
       "3908    Graduate\n",
       "1950     Dropout\n",
       "3323     Dropout\n",
       "1111    Graduate\n",
       "2429     Dropout\n",
       "          ...   \n",
       "4234    Enrolled\n",
       "1156     Dropout\n",
       "1066    Graduate\n",
       "1071    Graduate\n",
       "2451     Dropout\n",
       "Name: Target, Length: 3318, dtype: object"
      ]
     },
     "execution_count": 735,
     "metadata": {},
     "output_type": "execute_result"
    }
   ],
   "source": [
    "#using the normal data (X_train, X_test) \n",
    "y_train\n",
    "# guides me to use a RandomForestClassifer cos Yes Or No \n",
    "# RandomForestRegressor would be used it y was numeric"
   ]
  },
  {
   "cell_type": "code",
   "execution_count": 736,
   "id": "419d088c",
   "metadata": {},
   "outputs": [
    {
     "name": "stdout",
     "output_type": "stream",
     "text": [
      "Accuracy on training set: 1.000\n",
      "Accuracy on test set: 0.762\n"
     ]
    }
   ],
   "source": [
    "forest = RandomForestClassifier(random_state=0)# build the forest classifer \n",
    "forest.fit(X_train, y_train) # train model \n",
    "print(\"Accuracy on training set: {:.3f}\".format(forest.score(X_train, y_train)))\n",
    "print(\"Accuracy on test set: {:.3f}\".format(forest.score(X_test, y_test)))"
   ]
  },
  {
   "cell_type": "code",
   "execution_count": 737,
   "id": "a523f9d7",
   "metadata": {},
   "outputs": [],
   "source": [
    "# scaled data (X_train_scaled, X_test_scaled)"
   ]
  },
  {
   "cell_type": "code",
   "execution_count": 738,
   "id": "a6769d14",
   "metadata": {},
   "outputs": [
    {
     "name": "stdout",
     "output_type": "stream",
     "text": [
      "Accuracy on training set: 1.000\n",
      "Accuracy on test set: 0.763\n"
     ]
    }
   ],
   "source": [
    "forest = RandomForestClassifier(random_state=0)# build the forest classifer\n",
    "forest.fit(X_train_scaled, y_train) # train model \n",
    "print(\"Accuracy on training set: {:.3f}\".format(forest.score(X_train_scaled, y_train)))\n",
    "print(\"Accuracy on test set: {:.3f}\".format(forest.score(X_test_scaled, y_test)))"
   ]
  },
  {
   "cell_type": "markdown",
   "id": "515cf5ab",
   "metadata": {},
   "source": [
    "## Build Multi-layer Perceptron (MLP) Classifier"
   ]
  },
  {
   "cell_type": "markdown",
   "id": "88269088",
   "metadata": {},
   "source": [
    "Now try mlp models with different values for the hidden layer size. Try with a single hidden layer, with sizes ranging from 1 to 100, incremented by 5. (Use the MLP parameter, hidden_layer_sizes, which takes a value as a tuple -- for a single hidden layer, just one value in parenthesis.) Save the train and test scores in two lists, and print the results, sorted by test score."
   ]
  },
  {
   "cell_type": "code",
   "execution_count": 739,
   "id": "826b1f79",
   "metadata": {},
   "outputs": [
    {
     "name": "stdout",
     "output_type": "stream",
     "text": [
      "Accuracy on training set: 0.810\n",
      "Accuracy on test set: 0.745\n"
     ]
    }
   ],
   "source": [
    "mlp = MLPClassifier(max_iter=1000,random_state=1)# build the classifier\n",
    "mlp.fit(X_train, y_train) # train model \n",
    "print(\"Accuracy on training set: {:.3f}\".format(mlp.score(X_train, y_train)))\n",
    "print(\"Accuracy on test set: {:.3f}\".format(mlp.score(X_test, y_test)))"
   ]
  },
  {
   "cell_type": "code",
   "execution_count": 740,
   "id": "f66f2095",
   "metadata": {},
   "outputs": [
    {
     "data": {
      "text/html": [
       "<div>\n",
       "<style scoped>\n",
       "    .dataframe tbody tr th:only-of-type {\n",
       "        vertical-align: middle;\n",
       "    }\n",
       "\n",
       "    .dataframe tbody tr th {\n",
       "        vertical-align: top;\n",
       "    }\n",
       "\n",
       "    .dataframe thead th {\n",
       "        text-align: right;\n",
       "    }\n",
       "</style>\n",
       "<table border=\"1\" class=\"dataframe\">\n",
       "  <thead>\n",
       "    <tr style=\"text-align: right;\">\n",
       "      <th></th>\n",
       "      <th>hidden-layer-size</th>\n",
       "      <th>Train_score</th>\n",
       "      <th>Test_score</th>\n",
       "      <th>recall</th>\n",
       "    </tr>\n",
       "  </thead>\n",
       "  <tbody>\n",
       "    <tr>\n",
       "      <th>19</th>\n",
       "      <td>96</td>\n",
       "      <td>0.817661</td>\n",
       "      <td>0.743219</td>\n",
       "      <td>0.709859</td>\n",
       "    </tr>\n",
       "    <tr>\n",
       "      <th>20</th>\n",
       "      <td>101</td>\n",
       "      <td>0.808620</td>\n",
       "      <td>0.759494</td>\n",
       "      <td>0.749296</td>\n",
       "    </tr>\n",
       "    <tr>\n",
       "      <th>18</th>\n",
       "      <td>91</td>\n",
       "      <td>0.807715</td>\n",
       "      <td>0.754069</td>\n",
       "      <td>0.743662</td>\n",
       "    </tr>\n",
       "    <tr>\n",
       "      <th>15</th>\n",
       "      <td>76</td>\n",
       "      <td>0.803797</td>\n",
       "      <td>0.730561</td>\n",
       "      <td>0.757746</td>\n",
       "    </tr>\n",
       "    <tr>\n",
       "      <th>14</th>\n",
       "      <td>71</td>\n",
       "      <td>0.789030</td>\n",
       "      <td>0.750452</td>\n",
       "      <td>0.794366</td>\n",
       "    </tr>\n",
       "    <tr>\n",
       "      <th>11</th>\n",
       "      <td>56</td>\n",
       "      <td>0.786317</td>\n",
       "      <td>0.756781</td>\n",
       "      <td>0.721127</td>\n",
       "    </tr>\n",
       "    <tr>\n",
       "      <th>17</th>\n",
       "      <td>86</td>\n",
       "      <td>0.781495</td>\n",
       "      <td>0.760398</td>\n",
       "      <td>0.769014</td>\n",
       "    </tr>\n",
       "    <tr>\n",
       "      <th>10</th>\n",
       "      <td>51</td>\n",
       "      <td>0.781193</td>\n",
       "      <td>0.747740</td>\n",
       "      <td>0.763380</td>\n",
       "    </tr>\n",
       "    <tr>\n",
       "      <th>16</th>\n",
       "      <td>81</td>\n",
       "      <td>0.780289</td>\n",
       "      <td>0.755877</td>\n",
       "      <td>0.752113</td>\n",
       "    </tr>\n",
       "    <tr>\n",
       "      <th>3</th>\n",
       "      <td>16</td>\n",
       "      <td>0.772755</td>\n",
       "      <td>0.746835</td>\n",
       "      <td>0.752113</td>\n",
       "    </tr>\n",
       "    <tr>\n",
       "      <th>9</th>\n",
       "      <td>46</td>\n",
       "      <td>0.771851</td>\n",
       "      <td>0.759494</td>\n",
       "      <td>0.729577</td>\n",
       "    </tr>\n",
       "    <tr>\n",
       "      <th>7</th>\n",
       "      <td>36</td>\n",
       "      <td>0.771549</td>\n",
       "      <td>0.756781</td>\n",
       "      <td>0.791549</td>\n",
       "    </tr>\n",
       "    <tr>\n",
       "      <th>12</th>\n",
       "      <td>61</td>\n",
       "      <td>0.770344</td>\n",
       "      <td>0.745931</td>\n",
       "      <td>0.692958</td>\n",
       "    </tr>\n",
       "    <tr>\n",
       "      <th>4</th>\n",
       "      <td>21</td>\n",
       "      <td>0.768234</td>\n",
       "      <td>0.757685</td>\n",
       "      <td>0.746479</td>\n",
       "    </tr>\n",
       "    <tr>\n",
       "      <th>5</th>\n",
       "      <td>26</td>\n",
       "      <td>0.767932</td>\n",
       "      <td>0.765823</td>\n",
       "      <td>0.757746</td>\n",
       "    </tr>\n",
       "    <tr>\n",
       "      <th>13</th>\n",
       "      <td>66</td>\n",
       "      <td>0.767631</td>\n",
       "      <td>0.734177</td>\n",
       "      <td>0.828169</td>\n",
       "    </tr>\n",
       "    <tr>\n",
       "      <th>6</th>\n",
       "      <td>31</td>\n",
       "      <td>0.766426</td>\n",
       "      <td>0.760398</td>\n",
       "      <td>0.763380</td>\n",
       "    </tr>\n",
       "    <tr>\n",
       "      <th>2</th>\n",
       "      <td>11</td>\n",
       "      <td>0.764919</td>\n",
       "      <td>0.754069</td>\n",
       "      <td>0.743662</td>\n",
       "    </tr>\n",
       "    <tr>\n",
       "      <th>8</th>\n",
       "      <td>41</td>\n",
       "      <td>0.761001</td>\n",
       "      <td>0.750452</td>\n",
       "      <td>0.785915</td>\n",
       "    </tr>\n",
       "    <tr>\n",
       "      <th>1</th>\n",
       "      <td>6</td>\n",
       "      <td>0.759494</td>\n",
       "      <td>0.755877</td>\n",
       "      <td>0.738028</td>\n",
       "    </tr>\n",
       "    <tr>\n",
       "      <th>0</th>\n",
       "      <td>1</td>\n",
       "      <td>0.738397</td>\n",
       "      <td>0.746835</td>\n",
       "      <td>0.830986</td>\n",
       "    </tr>\n",
       "  </tbody>\n",
       "</table>\n",
       "</div>"
      ],
      "text/plain": [
       "    hidden-layer-size  Train_score  Test_score    recall\n",
       "19                 96     0.817661    0.743219  0.709859\n",
       "20                101     0.808620    0.759494  0.749296\n",
       "18                 91     0.807715    0.754069  0.743662\n",
       "15                 76     0.803797    0.730561  0.757746\n",
       "14                 71     0.789030    0.750452  0.794366\n",
       "11                 56     0.786317    0.756781  0.721127\n",
       "17                 86     0.781495    0.760398  0.769014\n",
       "10                 51     0.781193    0.747740  0.763380\n",
       "16                 81     0.780289    0.755877  0.752113\n",
       "3                  16     0.772755    0.746835  0.752113\n",
       "9                  46     0.771851    0.759494  0.729577\n",
       "7                  36     0.771549    0.756781  0.791549\n",
       "12                 61     0.770344    0.745931  0.692958\n",
       "4                  21     0.768234    0.757685  0.746479\n",
       "5                  26     0.767932    0.765823  0.757746\n",
       "13                 66     0.767631    0.734177  0.828169\n",
       "6                  31     0.766426    0.760398  0.763380\n",
       "2                  11     0.764919    0.754069  0.743662\n",
       "8                  41     0.761001    0.750452  0.785915\n",
       "1                   6     0.759494    0.755877  0.738028\n",
       "0                   1     0.738397    0.746835  0.830986"
      ]
     },
     "execution_count": 740,
     "metadata": {},
     "output_type": "execute_result"
    }
   ],
   "source": [
    "# aim is to tune the MLP \n",
    "# https://www.youtube.com/watch?v=u5GAVdLQyIg\n",
    "# https://scikit-learn.org/stable/modules/generated/sklearn.neural_network.MLPClassifier.html\n",
    "list_of_entries = []\n",
    "headers = [\"hidden-layer-size\", \"Train_score\", \"Test_score\",'recall']\n",
    "for count in range (1,102,5): #increment 5 at each iteration\n",
    "    mlp = MLPClassifier(hidden_layer_sizes = count, max_iter=1000,random_state=1)\n",
    "    mlp.fit(X_train, y_train) # train model \n",
    "    y_pred = mlp.predict(X_test)\n",
    "    entry = [count, mlp.score(X_train, y_train),\n",
    "             mlp.score(X_test,y_test),\n",
    "            recall_score(y_test,y_pred, labels=class_labels,average=None)[1]] #adding the scores to variable\n",
    "    list_of_entries.append(entry)\n",
    "dfOpt = pd.DataFrame(list_of_entries, columns= headers)\n",
    "dfOpt.sort_values(by=[\"Train_score\", \"Test_score\"], ascending=False)"
   ]
  },
  {
   "cell_type": "markdown",
   "id": "221651d8",
   "metadata": {},
   "source": [
    "## Results: confusion matrix for MLP"
   ]
  },
  {
   "cell_type": "code",
   "execution_count": 741,
   "id": "6a607a3f",
   "metadata": {},
   "outputs": [
    {
     "name": "stdout",
     "output_type": "stream",
     "text": [
      " Confusion matrix MLP after optimisation test\n"
     ]
    },
    {
     "data": {
      "image/png": "[encoded data removed]",
      "text/plain": [
       "<Figure size 432x288 with 2 Axes>"
      ]
     },
     "metadata": {
      "needs_background": "light"
     },
     "output_type": "display_data"
    },
    {
     "name": "stdout",
     "output_type": "stream",
     "text": [
      "Classification Report Multi-layer Perceptron\n",
      "\n",
      "              precision    recall  f1-score   support\n",
      "\n",
      "    Graduate       0.77      0.93      0.84       552\n",
      "     Dropout       0.82      0.77      0.79       355\n",
      "    Enrolled       0.54      0.28      0.37       199\n",
      "\n",
      "    accuracy                           0.76      1106\n",
      "   macro avg       0.71      0.66      0.67      1106\n",
      "weighted avg       0.74      0.76      0.74      1106\n",
      "\n"
     ]
    }
   ],
   "source": [
    "# Make predictions on the test data\n",
    "mlp = MLPClassifier(hidden_layer_sizes = 56, max_iter=1000) # we selcted hidden_layer_sizes = 56\n",
    "mlp.fit(X_train, y_train) # train model \n",
    "y_pred = mlp.predict(X_test)\n",
    "print(\" Confusion matrix MLP after optimisation test\")\n",
    "plot_confusion_matrix( y_test, y_pred, 'confusion-mlp.png')\n",
    "print(\"Classification Report Multi-layer Perceptron\\n\")\n",
    "print(classification_report(y_test,y_pred,labels=class_labels))"
   ]
  },
  {
   "cell_type": "code",
   "execution_count": null,
   "id": "c5deaddd-2cf6-4108-a49b-1745187a222b",
   "metadata": {},
   "outputs": [],
   "source": []
  },
  {
   "cell_type": "code",
   "execution_count": 742,
   "id": "757d3767",
   "metadata": {},
   "outputs": [
    {
     "data": {
      "image/png": "[encoded data removed]",
      "text/plain": [
       "<Figure size 432x288 with 1 Axes>"
      ]
     },
     "metadata": {
      "needs_background": "light"
     },
     "output_type": "display_data"
    }
   ],
   "source": [
    "# typically we would have a set of data for tuning, in the project we can do it this way \n",
    "# we will not set up a validation data set \n",
    "# x axis - a list of the values for number of estimators\n",
    "\n",
    "# y axis - list of train scores\n",
    "# two arguments to plot are the x axis values and the y axis values\n",
    "\n",
    "# do another plot, with same x axis, and on the y axis - list of test scores\n",
    "\n",
    "# finally need to show the plots\n",
    "\n",
    "plt.plot(dfOpt['hidden-layer-size'], dfOpt['Test_score'], label='Test scores')\n",
    "plt.plot(dfOpt['hidden-layer-size'], dfOpt['Train_score'], label='Train scores')\n",
    "plt.legend()\n",
    "plt.xlabel('Hidden layer size')\n",
    "plt.show()"
   ]
  },
  {
   "cell_type": "markdown",
   "id": "86ea633a",
   "metadata": {},
   "source": [
    "Findings: So we find the training data to be slightly better than the testing data with outlier sitting at 21 and 96, not sure why."
   ]
  },
  {
   "cell_type": "markdown",
   "id": "8ba6c275",
   "metadata": {},
   "source": [
    "### Build a scaled version of the data, using Standard Scaler"
   ]
  },
  {
   "cell_type": "markdown",
   "id": "7c844fac",
   "metadata": {},
   "source": [
    "Load the telco data file we used in Lab 3, and perform a train-test split. Create a scaled version of the data, using Standard Scaler. Call the scaled version X_train_scaled, and X_test_scaled."
   ]
  },
  {
   "cell_type": "markdown",
   "id": "ad14bfd5",
   "metadata": {},
   "source": [
    "Build two versions of a default mlp model, using the normal data (X_train, X_test) and the scaled data (X_train_scaled, X_test_scaled). Print train and test scores for normal and scaled."
   ]
  },
  {
   "cell_type": "code",
   "execution_count": 743,
   "id": "86b5980d",
   "metadata": {},
   "outputs": [],
   "source": [
    "# this instantiate an object of StandardScaler, this means it creates a 'workspace/tool' in my sklearn 'toolbox' \n",
    "scaler = StandardScaler()\n",
    "# now we show the scaler the data, to say look at this \n",
    "scaler.fit(X_train) \n",
    "\n",
    "# now we apply the scaler to the training set\n",
    "X_train_scaled = scaler.transform(X_train) \n",
    "\n",
    "# now we apply the scaler to the test set\n",
    "#if we use a scaler we need to remember to create Train and Test that is scaled\n",
    "X_test_scaled = scaler.transform(X_test) "
   ]
  },
  {
   "cell_type": "markdown",
   "id": "c23191e2",
   "metadata": {},
   "source": [
    "Build two versions of a default mlp model, using the normal data (X_train, X_test) and the scaled data (X_train_scaled, X_test_scaled). Print train and test scores for normal and scaled."
   ]
  },
  {
   "cell_type": "code",
   "execution_count": 744,
   "id": "0035ba20",
   "metadata": {},
   "outputs": [],
   "source": [
    "# using the normal data (X_train, X_test) "
   ]
  },
  {
   "cell_type": "code",
   "execution_count": 745,
   "id": "f70e9d14",
   "metadata": {},
   "outputs": [
    {
     "name": "stdout",
     "output_type": "stream",
     "text": [
      "Accuracy on training set: 0.809\n",
      "Accuracy on test set: 0.735\n"
     ]
    }
   ],
   "source": [
    "mlp = MLPClassifier()# build the classifier\n",
    "mlp.fit(X_train, y_train) # train model \n",
    "print(\"Accuracy on training set: {:.3f}\".format(mlp.score(X_train, y_train)))\n",
    "print(\"Accuracy on test set: {:.3f}\".format(mlp.score(X_test, y_test)))"
   ]
  },
  {
   "cell_type": "code",
   "execution_count": 746,
   "id": "933976ee",
   "metadata": {},
   "outputs": [],
   "source": [
    "# scaled data (X_train_scaled, X_test_scaled)"
   ]
  },
  {
   "cell_type": "code",
   "execution_count": 747,
   "id": "6cd7db68",
   "metadata": {},
   "outputs": [
    {
     "name": "stdout",
     "output_type": "stream",
     "text": [
      "Accuracy on training set: 0.831\n",
      "Accuracy on test set: 0.678\n"
     ]
    },
    {
     "name": "stderr",
     "output_type": "stream",
     "text": [
      "/Users/vatsal/opt/anaconda3/lib/python3.9/site-packages/sklearn/neural_network/_multilayer_perceptron.py:692: ConvergenceWarning: Stochastic Optimizer: Maximum iterations (200) reached and the optimization hasn't converged yet.\n",
      "  warnings.warn(\n",
      "/Users/vatsal/opt/anaconda3/lib/python3.9/site-packages/sklearn/base.py:443: UserWarning: X has feature names, but MLPClassifier was fitted without feature names\n",
      "  warnings.warn(\n"
     ]
    }
   ],
   "source": [
    "mlp = MLPClassifier()# build the classifier\n",
    "mlp.fit(X_train_scaled, y_train) # train model \n",
    "print(\"Accuracy on training set: {:.3f}\".format(mlp.score(X_train_scaled, y_train)))\n",
    "print(\"Accuracy on test set: {:.3f}\".format(mlp.score(X_test, y_test)))"
   ]
  },
  {
   "cell_type": "markdown",
   "id": "e36ac2e8",
   "metadata": {},
   "source": [
    "Now try mlp models with different values for the hidden layer size. Try with two hidden layers, with sizes ranging from 1 to 20, incremented by 5. For each iteration, fit the model to both the normal and scaled data. Save the train and test scores for both in two lists. Also print the scaled and normal results at each iteration."
   ]
  },
  {
   "cell_type": "code",
   "execution_count": 748,
   "id": "fb0589d5",
   "metadata": {},
   "outputs": [],
   "source": [
    "# normal data"
   ]
  },
  {
   "cell_type": "code",
   "execution_count": 749,
   "id": "7c7c69d7",
   "metadata": {},
   "outputs": [
    {
     "name": "stderr",
     "output_type": "stream",
     "text": [
      "/Users/vatsal/opt/anaconda3/lib/python3.9/site-packages/sklearn/neural_network/_multilayer_perceptron.py:692: ConvergenceWarning: Stochastic Optimizer: Maximum iterations (200) reached and the optimization hasn't converged yet.\n",
      "  warnings.warn(\n",
      "/Users/vatsal/opt/anaconda3/lib/python3.9/site-packages/sklearn/base.py:450: UserWarning: X does not have valid feature names, but MLPClassifier was fitted with feature names\n",
      "  warnings.warn(\n",
      "/Users/vatsal/opt/anaconda3/lib/python3.9/site-packages/sklearn/neural_network/_multilayer_perceptron.py:692: ConvergenceWarning: Stochastic Optimizer: Maximum iterations (200) reached and the optimization hasn't converged yet.\n",
      "  warnings.warn(\n",
      "/Users/vatsal/opt/anaconda3/lib/python3.9/site-packages/sklearn/neural_network/_multilayer_perceptron.py:692: ConvergenceWarning: Stochastic Optimizer: Maximum iterations (200) reached and the optimization hasn't converged yet.\n",
      "  warnings.warn(\n",
      "/Users/vatsal/opt/anaconda3/lib/python3.9/site-packages/sklearn/base.py:450: UserWarning: X does not have valid feature names, but MLPClassifier was fitted with feature names\n",
      "  warnings.warn(\n",
      "/Users/vatsal/opt/anaconda3/lib/python3.9/site-packages/sklearn/base.py:450: UserWarning: X does not have valid feature names, but MLPClassifier was fitted with feature names\n",
      "  warnings.warn(\n",
      "/Users/vatsal/opt/anaconda3/lib/python3.9/site-packages/sklearn/neural_network/_multilayer_perceptron.py:692: ConvergenceWarning: Stochastic Optimizer: Maximum iterations (200) reached and the optimization hasn't converged yet.\n",
      "  warnings.warn(\n",
      "/Users/vatsal/opt/anaconda3/lib/python3.9/site-packages/sklearn/base.py:450: UserWarning: X does not have valid feature names, but MLPClassifier was fitted with feature names\n",
      "  warnings.warn(\n",
      "/Users/vatsal/opt/anaconda3/lib/python3.9/site-packages/sklearn/neural_network/_multilayer_perceptron.py:692: ConvergenceWarning: Stochastic Optimizer: Maximum iterations (200) reached and the optimization hasn't converged yet.\n",
      "  warnings.warn(\n",
      "/Users/vatsal/opt/anaconda3/lib/python3.9/site-packages/sklearn/neural_network/_multilayer_perceptron.py:692: ConvergenceWarning: Stochastic Optimizer: Maximum iterations (200) reached and the optimization hasn't converged yet.\n",
      "  warnings.warn(\n",
      "/Users/vatsal/opt/anaconda3/lib/python3.9/site-packages/sklearn/base.py:450: UserWarning: X does not have valid feature names, but MLPClassifier was fitted with feature names\n",
      "  warnings.warn(\n",
      "/Users/vatsal/opt/anaconda3/lib/python3.9/site-packages/sklearn/neural_network/_multilayer_perceptron.py:692: ConvergenceWarning: Stochastic Optimizer: Maximum iterations (200) reached and the optimization hasn't converged yet.\n",
      "  warnings.warn(\n",
      "/Users/vatsal/opt/anaconda3/lib/python3.9/site-packages/sklearn/neural_network/_multilayer_perceptron.py:692: ConvergenceWarning: Stochastic Optimizer: Maximum iterations (200) reached and the optimization hasn't converged yet.\n",
      "  warnings.warn(\n",
      "/Users/vatsal/opt/anaconda3/lib/python3.9/site-packages/sklearn/base.py:450: UserWarning: X does not have valid feature names, but MLPClassifier was fitted with feature names\n",
      "  warnings.warn(\n",
      "/Users/vatsal/opt/anaconda3/lib/python3.9/site-packages/sklearn/neural_network/_multilayer_perceptron.py:692: ConvergenceWarning: Stochastic Optimizer: Maximum iterations (200) reached and the optimization hasn't converged yet.\n",
      "  warnings.warn(\n",
      "/Users/vatsal/opt/anaconda3/lib/python3.9/site-packages/sklearn/neural_network/_multilayer_perceptron.py:692: ConvergenceWarning: Stochastic Optimizer: Maximum iterations (200) reached and the optimization hasn't converged yet.\n",
      "  warnings.warn(\n",
      "/Users/vatsal/opt/anaconda3/lib/python3.9/site-packages/sklearn/base.py:450: UserWarning: X does not have valid feature names, but MLPClassifier was fitted with feature names\n",
      "  warnings.warn(\n",
      "/Users/vatsal/opt/anaconda3/lib/python3.9/site-packages/sklearn/neural_network/_multilayer_perceptron.py:692: ConvergenceWarning: Stochastic Optimizer: Maximum iterations (200) reached and the optimization hasn't converged yet.\n",
      "  warnings.warn(\n",
      "/Users/vatsal/opt/anaconda3/lib/python3.9/site-packages/sklearn/neural_network/_multilayer_perceptron.py:692: ConvergenceWarning: Stochastic Optimizer: Maximum iterations (200) reached and the optimization hasn't converged yet.\n",
      "  warnings.warn(\n",
      "/Users/vatsal/opt/anaconda3/lib/python3.9/site-packages/sklearn/base.py:450: UserWarning: X does not have valid feature names, but MLPClassifier was fitted with feature names\n",
      "  warnings.warn(\n",
      "/Users/vatsal/opt/anaconda3/lib/python3.9/site-packages/sklearn/neural_network/_multilayer_perceptron.py:692: ConvergenceWarning: Stochastic Optimizer: Maximum iterations (200) reached and the optimization hasn't converged yet.\n",
      "  warnings.warn(\n",
      "/Users/vatsal/opt/anaconda3/lib/python3.9/site-packages/sklearn/neural_network/_multilayer_perceptron.py:692: ConvergenceWarning: Stochastic Optimizer: Maximum iterations (200) reached and the optimization hasn't converged yet.\n",
      "  warnings.warn(\n",
      "/Users/vatsal/opt/anaconda3/lib/python3.9/site-packages/sklearn/base.py:450: UserWarning: X does not have valid feature names, but MLPClassifier was fitted with feature names\n",
      "  warnings.warn(\n",
      "/Users/vatsal/opt/anaconda3/lib/python3.9/site-packages/sklearn/neural_network/_multilayer_perceptron.py:692: ConvergenceWarning: Stochastic Optimizer: Maximum iterations (200) reached and the optimization hasn't converged yet.\n",
      "  warnings.warn(\n",
      "/Users/vatsal/opt/anaconda3/lib/python3.9/site-packages/sklearn/neural_network/_multilayer_perceptron.py:692: ConvergenceWarning: Stochastic Optimizer: Maximum iterations (200) reached and the optimization hasn't converged yet.\n",
      "  warnings.warn(\n",
      "/Users/vatsal/opt/anaconda3/lib/python3.9/site-packages/sklearn/base.py:450: UserWarning: X does not have valid feature names, but MLPClassifier was fitted with feature names\n",
      "  warnings.warn(\n",
      "/Users/vatsal/opt/anaconda3/lib/python3.9/site-packages/sklearn/neural_network/_multilayer_perceptron.py:692: ConvergenceWarning: Stochastic Optimizer: Maximum iterations (200) reached and the optimization hasn't converged yet.\n",
      "  warnings.warn(\n",
      "/Users/vatsal/opt/anaconda3/lib/python3.9/site-packages/sklearn/base.py:450: UserWarning: X does not have valid feature names, but MLPClassifier was fitted with feature names\n",
      "  warnings.warn(\n",
      "/Users/vatsal/opt/anaconda3/lib/python3.9/site-packages/sklearn/neural_network/_multilayer_perceptron.py:692: ConvergenceWarning: Stochastic Optimizer: Maximum iterations (200) reached and the optimization hasn't converged yet.\n",
      "  warnings.warn(\n",
      "/Users/vatsal/opt/anaconda3/lib/python3.9/site-packages/sklearn/neural_network/_multilayer_perceptron.py:692: ConvergenceWarning: Stochastic Optimizer: Maximum iterations (200) reached and the optimization hasn't converged yet.\n",
      "  warnings.warn(\n",
      "/Users/vatsal/opt/anaconda3/lib/python3.9/site-packages/sklearn/base.py:450: UserWarning: X does not have valid feature names, but MLPClassifier was fitted with feature names\n",
      "  warnings.warn(\n",
      "/Users/vatsal/opt/anaconda3/lib/python3.9/site-packages/sklearn/neural_network/_multilayer_perceptron.py:692: ConvergenceWarning: Stochastic Optimizer: Maximum iterations (200) reached and the optimization hasn't converged yet.\n",
      "  warnings.warn(\n",
      "/Users/vatsal/opt/anaconda3/lib/python3.9/site-packages/sklearn/base.py:450: UserWarning: X does not have valid feature names, but MLPClassifier was fitted with feature names\n",
      "  warnings.warn(\n",
      "/Users/vatsal/opt/anaconda3/lib/python3.9/site-packages/sklearn/neural_network/_multilayer_perceptron.py:692: ConvergenceWarning: Stochastic Optimizer: Maximum iterations (200) reached and the optimization hasn't converged yet.\n",
      "  warnings.warn(\n",
      "/Users/vatsal/opt/anaconda3/lib/python3.9/site-packages/sklearn/base.py:450: UserWarning: X does not have valid feature names, but MLPClassifier was fitted with feature names\n",
      "  warnings.warn(\n",
      "/Users/vatsal/opt/anaconda3/lib/python3.9/site-packages/sklearn/neural_network/_multilayer_perceptron.py:692: ConvergenceWarning: Stochastic Optimizer: Maximum iterations (200) reached and the optimization hasn't converged yet.\n",
      "  warnings.warn(\n",
      "/Users/vatsal/opt/anaconda3/lib/python3.9/site-packages/sklearn/neural_network/_multilayer_perceptron.py:692: ConvergenceWarning: Stochastic Optimizer: Maximum iterations (200) reached and the optimization hasn't converged yet.\n",
      "  warnings.warn(\n",
      "/Users/vatsal/opt/anaconda3/lib/python3.9/site-packages/sklearn/base.py:450: UserWarning: X does not have valid feature names, but MLPClassifier was fitted with feature names\n",
      "  warnings.warn(\n",
      "/Users/vatsal/opt/anaconda3/lib/python3.9/site-packages/sklearn/neural_network/_multilayer_perceptron.py:692: ConvergenceWarning: Stochastic Optimizer: Maximum iterations (200) reached and the optimization hasn't converged yet.\n",
      "  warnings.warn(\n",
      "/Users/vatsal/opt/anaconda3/lib/python3.9/site-packages/sklearn/base.py:450: UserWarning: X does not have valid feature names, but MLPClassifier was fitted with feature names\n",
      "  warnings.warn(\n"
     ]
    }
   ],
   "source": [
    "# aim is to tune the MLP \n",
    "# https://www.youtube.com/watch?v=u5GAVdLQyIg\n",
    "# https://scikit-learn.org/stable/modules/generated/sklearn.neural_network.MLPClassifier.html\n",
    "list_of_entries = []\n",
    "headers = [\"hidden-layer-size L1\", \"hidden-layer-size L2\",\n",
    "           \"Train_score\", \"Test_score\",                                   \n",
    "           \"Train_score_scaled\", \"Test_score_scaled\", 'recall_score', \"recall_scaled\"]\n",
    "\n",
    "for count1 in range (1,21,5): #increment 5 at each iteration\n",
    "    for count2 in range (1,21,5): #increment 5 at each iteration\n",
    "       \n",
    "        # this means it creates a 'workspace/tool' in my sklearn 'toolbox' for to use the MLPClassifier\n",
    "        #tuple of count1 and count2 to create 2 hidden layers\n",
    "        mlp = MLPClassifier(hidden_layer_sizes = (count1,count2)) # we define the layers of the hidden layers\n",
    "        mlp_scaled = MLPClassifier(hidden_layer_sizes = (count1,count2))\n",
    "        \n",
    "        mlp.fit(X_train, y_train) # train model \n",
    "        mlp_scaled.fit(X_train_scaled, y_train) # train model for scaled data\n",
    "        y_pred = mlp.predict(X_test)\n",
    "        y_pred_scaled = mlp.predict(X_test_scaled)\n",
    "        #adding the scores to variable 'entry'\n",
    "        entry = [count1, count2, mlp.score(X_train, y_train), \n",
    "                                 mlp.score(X_test,y_test),\n",
    "                                 mlp_scaled.score(X_train_scaled, y_train), \n",
    "                                 mlp_scaled.score(X_test_scaled,y_test),\n",
    "                recall_score(y_test,y_pred, labels=class_labels,average=None)[1],\n",
    "                recall_score(y_test,y_pred_scaled, labels=class_labels,average=None)[1]\n",
    "            ]\n",
    "        list_of_entries.append(entry)\n",
    "        \n",
    "df = pd.DataFrame(list_of_entries, columns= headers)"
   ]
  },
  {
   "cell_type": "code",
   "execution_count": 750,
   "id": "5dc271c7",
   "metadata": {},
   "outputs": [
    {
     "data": {
      "text/html": [
       "<div>\n",
       "<style scoped>\n",
       "    .dataframe tbody tr th:only-of-type {\n",
       "        vertical-align: middle;\n",
       "    }\n",
       "\n",
       "    .dataframe tbody tr th {\n",
       "        vertical-align: top;\n",
       "    }\n",
       "\n",
       "    .dataframe thead th {\n",
       "        text-align: right;\n",
       "    }\n",
       "</style>\n",
       "<table border=\"1\" class=\"dataframe\">\n",
       "  <thead>\n",
       "    <tr style=\"text-align: right;\">\n",
       "      <th></th>\n",
       "      <th>hidden-layer-size L1</th>\n",
       "      <th>hidden-layer-size L2</th>\n",
       "      <th>Train_score</th>\n",
       "      <th>Test_score</th>\n",
       "      <th>Train_score_scaled</th>\n",
       "      <th>Test_score_scaled</th>\n",
       "      <th>recall_score</th>\n",
       "      <th>recall_scaled</th>\n",
       "    </tr>\n",
       "  </thead>\n",
       "  <tbody>\n",
       "    <tr>\n",
       "      <th>4</th>\n",
       "      <td>6</td>\n",
       "      <td>1</td>\n",
       "      <td>0.735986</td>\n",
       "      <td>0.736890</td>\n",
       "      <td>0.752260</td>\n",
       "      <td>0.745931</td>\n",
       "      <td>0.839437</td>\n",
       "      <td>1.000000</td>\n",
       "    </tr>\n",
       "    <tr>\n",
       "      <th>8</th>\n",
       "      <td>11</td>\n",
       "      <td>1</td>\n",
       "      <td>0.741410</td>\n",
       "      <td>0.738698</td>\n",
       "      <td>0.739602</td>\n",
       "      <td>0.732369</td>\n",
       "      <td>0.833803</td>\n",
       "      <td>0.980282</td>\n",
       "    </tr>\n",
       "    <tr>\n",
       "      <th>9</th>\n",
       "      <td>11</td>\n",
       "      <td>6</td>\n",
       "      <td>0.756178</td>\n",
       "      <td>0.752260</td>\n",
       "      <td>0.778481</td>\n",
       "      <td>0.764014</td>\n",
       "      <td>0.788732</td>\n",
       "      <td>0.405634</td>\n",
       "    </tr>\n",
       "    <tr>\n",
       "      <th>7</th>\n",
       "      <td>6</td>\n",
       "      <td>16</td>\n",
       "      <td>0.767932</td>\n",
       "      <td>0.759494</td>\n",
       "      <td>0.773357</td>\n",
       "      <td>0.755877</td>\n",
       "      <td>0.777465</td>\n",
       "      <td>0.169014</td>\n",
       "    </tr>\n",
       "    <tr>\n",
       "      <th>14</th>\n",
       "      <td>16</td>\n",
       "      <td>11</td>\n",
       "      <td>0.773357</td>\n",
       "      <td>0.758590</td>\n",
       "      <td>0.788728</td>\n",
       "      <td>0.758590</td>\n",
       "      <td>0.774648</td>\n",
       "      <td>0.608451</td>\n",
       "    </tr>\n",
       "    <tr>\n",
       "      <th>3</th>\n",
       "      <td>1</td>\n",
       "      <td>16</td>\n",
       "      <td>0.734479</td>\n",
       "      <td>0.728752</td>\n",
       "      <td>0.749849</td>\n",
       "      <td>0.752260</td>\n",
       "      <td>0.771831</td>\n",
       "      <td>0.323944</td>\n",
       "    </tr>\n",
       "    <tr>\n",
       "      <th>6</th>\n",
       "      <td>6</td>\n",
       "      <td>11</td>\n",
       "      <td>0.762508</td>\n",
       "      <td>0.747740</td>\n",
       "      <td>0.773056</td>\n",
       "      <td>0.754973</td>\n",
       "      <td>0.769014</td>\n",
       "      <td>0.557746</td>\n",
       "    </tr>\n",
       "    <tr>\n",
       "      <th>1</th>\n",
       "      <td>1</td>\n",
       "      <td>6</td>\n",
       "      <td>0.732670</td>\n",
       "      <td>0.728752</td>\n",
       "      <td>0.739904</td>\n",
       "      <td>0.739602</td>\n",
       "      <td>0.763380</td>\n",
       "      <td>0.205634</td>\n",
       "    </tr>\n",
       "    <tr>\n",
       "      <th>11</th>\n",
       "      <td>11</td>\n",
       "      <td>16</td>\n",
       "      <td>0.761302</td>\n",
       "      <td>0.749548</td>\n",
       "      <td>0.782700</td>\n",
       "      <td>0.757685</td>\n",
       "      <td>0.760563</td>\n",
       "      <td>0.971831</td>\n",
       "    </tr>\n",
       "    <tr>\n",
       "      <th>13</th>\n",
       "      <td>16</td>\n",
       "      <td>6</td>\n",
       "      <td>0.764919</td>\n",
       "      <td>0.757685</td>\n",
       "      <td>0.789632</td>\n",
       "      <td>0.751356</td>\n",
       "      <td>0.754930</td>\n",
       "      <td>0.600000</td>\n",
       "    </tr>\n",
       "    <tr>\n",
       "      <th>10</th>\n",
       "      <td>11</td>\n",
       "      <td>11</td>\n",
       "      <td>0.764316</td>\n",
       "      <td>0.775769</td>\n",
       "      <td>0.777275</td>\n",
       "      <td>0.753165</td>\n",
       "      <td>0.746479</td>\n",
       "      <td>0.340845</td>\n",
       "    </tr>\n",
       "    <tr>\n",
       "      <th>5</th>\n",
       "      <td>6</td>\n",
       "      <td>6</td>\n",
       "      <td>0.738095</td>\n",
       "      <td>0.721519</td>\n",
       "      <td>0.773056</td>\n",
       "      <td>0.764919</td>\n",
       "      <td>0.738028</td>\n",
       "      <td>0.123944</td>\n",
       "    </tr>\n",
       "    <tr>\n",
       "      <th>15</th>\n",
       "      <td>16</td>\n",
       "      <td>16</td>\n",
       "      <td>0.776974</td>\n",
       "      <td>0.759494</td>\n",
       "      <td>0.795961</td>\n",
       "      <td>0.748644</td>\n",
       "      <td>0.718310</td>\n",
       "      <td>0.343662</td>\n",
       "    </tr>\n",
       "    <tr>\n",
       "      <th>0</th>\n",
       "      <td>1</td>\n",
       "      <td>1</td>\n",
       "      <td>0.499397</td>\n",
       "      <td>0.499096</td>\n",
       "      <td>0.737191</td>\n",
       "      <td>0.744123</td>\n",
       "      <td>0.000000</td>\n",
       "      <td>0.000000</td>\n",
       "    </tr>\n",
       "    <tr>\n",
       "      <th>2</th>\n",
       "      <td>1</td>\n",
       "      <td>11</td>\n",
       "      <td>0.499397</td>\n",
       "      <td>0.499096</td>\n",
       "      <td>0.738999</td>\n",
       "      <td>0.740506</td>\n",
       "      <td>0.000000</td>\n",
       "      <td>0.000000</td>\n",
       "    </tr>\n",
       "    <tr>\n",
       "      <th>12</th>\n",
       "      <td>16</td>\n",
       "      <td>1</td>\n",
       "      <td>0.499397</td>\n",
       "      <td>0.499096</td>\n",
       "      <td>0.751658</td>\n",
       "      <td>0.739602</td>\n",
       "      <td>0.000000</td>\n",
       "      <td>0.000000</td>\n",
       "    </tr>\n",
       "  </tbody>\n",
       "</table>\n",
       "</div>"
      ],
      "text/plain": [
       "    hidden-layer-size L1  hidden-layer-size L2  Train_score  Test_score  \\\n",
       "4                      6                     1     0.735986    0.736890   \n",
       "8                     11                     1     0.741410    0.738698   \n",
       "9                     11                     6     0.756178    0.752260   \n",
       "7                      6                    16     0.767932    0.759494   \n",
       "14                    16                    11     0.773357    0.758590   \n",
       "3                      1                    16     0.734479    0.728752   \n",
       "6                      6                    11     0.762508    0.747740   \n",
       "1                      1                     6     0.732670    0.728752   \n",
       "11                    11                    16     0.761302    0.749548   \n",
       "13                    16                     6     0.764919    0.757685   \n",
       "10                    11                    11     0.764316    0.775769   \n",
       "5                      6                     6     0.738095    0.721519   \n",
       "15                    16                    16     0.776974    0.759494   \n",
       "0                      1                     1     0.499397    0.499096   \n",
       "2                      1                    11     0.499397    0.499096   \n",
       "12                    16                     1     0.499397    0.499096   \n",
       "\n",
       "    Train_score_scaled  Test_score_scaled  recall_score  recall_scaled  \n",
       "4             0.752260           0.745931      0.839437       1.000000  \n",
       "8             0.739602           0.732369      0.833803       0.980282  \n",
       "9             0.778481           0.764014      0.788732       0.405634  \n",
       "7             0.773357           0.755877      0.777465       0.169014  \n",
       "14            0.788728           0.758590      0.774648       0.608451  \n",
       "3             0.749849           0.752260      0.771831       0.323944  \n",
       "6             0.773056           0.754973      0.769014       0.557746  \n",
       "1             0.739904           0.739602      0.763380       0.205634  \n",
       "11            0.782700           0.757685      0.760563       0.971831  \n",
       "13            0.789632           0.751356      0.754930       0.600000  \n",
       "10            0.777275           0.753165      0.746479       0.340845  \n",
       "5             0.773056           0.764919      0.738028       0.123944  \n",
       "15            0.795961           0.748644      0.718310       0.343662  \n",
       "0             0.737191           0.744123      0.000000       0.000000  \n",
       "2             0.738999           0.740506      0.000000       0.000000  \n",
       "12            0.751658           0.739602      0.000000       0.000000  "
      ]
     },
     "execution_count": 750,
     "metadata": {},
     "output_type": "execute_result"
    }
   ],
   "source": [
    "df.sort_values(by=[\"recall_score\",\"recall_scaled\"], ascending=False)"
   ]
  },
  {
   "cell_type": "code",
   "execution_count": 751,
   "id": "a8391292",
   "metadata": {},
   "outputs": [
    {
     "data": {
      "image/png": "[encoded data removed]",
      "text/plain": [
       "<Figure size 432x288 with 1 Axes>"
      ]
     },
     "metadata": {
      "needs_background": "light"
     },
     "output_type": "display_data"
    }
   ],
   "source": [
    "plt.plot(df['Test_score'], label='Test scores') #plotting it by df index \n",
    "plt.plot(df['Test_score_scaled'], label='Test scores scaled')\n",
    "plt.legend()\n",
    "plt.xlabel('index')\n",
    "plt.show()"
   ]
  },
  {
   "cell_type": "code",
   "execution_count": null,
   "id": "f8654c31-d466-4848-bc1f-51f67278933c",
   "metadata": {},
   "outputs": [],
   "source": []
  },
  {
   "cell_type": "markdown",
   "id": "deab2ae6",
   "metadata": {},
   "source": [
    "Findings: we can see scaled data set is almost always better expect at index 2 ( hidden level 1 =1 and hl2 = 11)"
   ]
  },
  {
   "cell_type": "code",
   "execution_count": 752,
   "id": "8418f9e6",
   "metadata": {},
   "outputs": [
    {
     "data": {
      "text/html": [
       "<div>\n",
       "<style scoped>\n",
       "    .dataframe tbody tr th:only-of-type {\n",
       "        vertical-align: middle;\n",
       "    }\n",
       "\n",
       "    .dataframe tbody tr th {\n",
       "        vertical-align: top;\n",
       "    }\n",
       "\n",
       "    .dataframe thead th {\n",
       "        text-align: right;\n",
       "    }\n",
       "</style>\n",
       "<table border=\"1\" class=\"dataframe\">\n",
       "  <thead>\n",
       "    <tr style=\"text-align: right;\">\n",
       "      <th></th>\n",
       "      <th>hidden-layer-size L1</th>\n",
       "      <th>hidden-layer-size L2</th>\n",
       "      <th>Train_score</th>\n",
       "      <th>Test_score</th>\n",
       "      <th>Train_score_scaled</th>\n",
       "      <th>Test_score_scaled</th>\n",
       "      <th>recall_score</th>\n",
       "      <th>recall_scaled</th>\n",
       "    </tr>\n",
       "  </thead>\n",
       "  <tbody>\n",
       "    <tr>\n",
       "      <th>5</th>\n",
       "      <td>6</td>\n",
       "      <td>6</td>\n",
       "      <td>0.738095</td>\n",
       "      <td>0.721519</td>\n",
       "      <td>0.773056</td>\n",
       "      <td>0.764919</td>\n",
       "      <td>0.738028</td>\n",
       "      <td>0.123944</td>\n",
       "    </tr>\n",
       "    <tr>\n",
       "      <th>9</th>\n",
       "      <td>11</td>\n",
       "      <td>6</td>\n",
       "      <td>0.756178</td>\n",
       "      <td>0.752260</td>\n",
       "      <td>0.778481</td>\n",
       "      <td>0.764014</td>\n",
       "      <td>0.788732</td>\n",
       "      <td>0.405634</td>\n",
       "    </tr>\n",
       "    <tr>\n",
       "      <th>14</th>\n",
       "      <td>16</td>\n",
       "      <td>11</td>\n",
       "      <td>0.773357</td>\n",
       "      <td>0.758590</td>\n",
       "      <td>0.788728</td>\n",
       "      <td>0.758590</td>\n",
       "      <td>0.774648</td>\n",
       "      <td>0.608451</td>\n",
       "    </tr>\n",
       "    <tr>\n",
       "      <th>11</th>\n",
       "      <td>11</td>\n",
       "      <td>16</td>\n",
       "      <td>0.761302</td>\n",
       "      <td>0.749548</td>\n",
       "      <td>0.782700</td>\n",
       "      <td>0.757685</td>\n",
       "      <td>0.760563</td>\n",
       "      <td>0.971831</td>\n",
       "    </tr>\n",
       "    <tr>\n",
       "      <th>7</th>\n",
       "      <td>6</td>\n",
       "      <td>16</td>\n",
       "      <td>0.767932</td>\n",
       "      <td>0.759494</td>\n",
       "      <td>0.773357</td>\n",
       "      <td>0.755877</td>\n",
       "      <td>0.777465</td>\n",
       "      <td>0.169014</td>\n",
       "    </tr>\n",
       "    <tr>\n",
       "      <th>6</th>\n",
       "      <td>6</td>\n",
       "      <td>11</td>\n",
       "      <td>0.762508</td>\n",
       "      <td>0.747740</td>\n",
       "      <td>0.773056</td>\n",
       "      <td>0.754973</td>\n",
       "      <td>0.769014</td>\n",
       "      <td>0.557746</td>\n",
       "    </tr>\n",
       "    <tr>\n",
       "      <th>10</th>\n",
       "      <td>11</td>\n",
       "      <td>11</td>\n",
       "      <td>0.764316</td>\n",
       "      <td>0.775769</td>\n",
       "      <td>0.777275</td>\n",
       "      <td>0.753165</td>\n",
       "      <td>0.746479</td>\n",
       "      <td>0.340845</td>\n",
       "    </tr>\n",
       "    <tr>\n",
       "      <th>3</th>\n",
       "      <td>1</td>\n",
       "      <td>16</td>\n",
       "      <td>0.734479</td>\n",
       "      <td>0.728752</td>\n",
       "      <td>0.749849</td>\n",
       "      <td>0.752260</td>\n",
       "      <td>0.771831</td>\n",
       "      <td>0.323944</td>\n",
       "    </tr>\n",
       "    <tr>\n",
       "      <th>13</th>\n",
       "      <td>16</td>\n",
       "      <td>6</td>\n",
       "      <td>0.764919</td>\n",
       "      <td>0.757685</td>\n",
       "      <td>0.789632</td>\n",
       "      <td>0.751356</td>\n",
       "      <td>0.754930</td>\n",
       "      <td>0.600000</td>\n",
       "    </tr>\n",
       "    <tr>\n",
       "      <th>15</th>\n",
       "      <td>16</td>\n",
       "      <td>16</td>\n",
       "      <td>0.776974</td>\n",
       "      <td>0.759494</td>\n",
       "      <td>0.795961</td>\n",
       "      <td>0.748644</td>\n",
       "      <td>0.718310</td>\n",
       "      <td>0.343662</td>\n",
       "    </tr>\n",
       "    <tr>\n",
       "      <th>4</th>\n",
       "      <td>6</td>\n",
       "      <td>1</td>\n",
       "      <td>0.735986</td>\n",
       "      <td>0.736890</td>\n",
       "      <td>0.752260</td>\n",
       "      <td>0.745931</td>\n",
       "      <td>0.839437</td>\n",
       "      <td>1.000000</td>\n",
       "    </tr>\n",
       "    <tr>\n",
       "      <th>0</th>\n",
       "      <td>1</td>\n",
       "      <td>1</td>\n",
       "      <td>0.499397</td>\n",
       "      <td>0.499096</td>\n",
       "      <td>0.737191</td>\n",
       "      <td>0.744123</td>\n",
       "      <td>0.000000</td>\n",
       "      <td>0.000000</td>\n",
       "    </tr>\n",
       "    <tr>\n",
       "      <th>2</th>\n",
       "      <td>1</td>\n",
       "      <td>11</td>\n",
       "      <td>0.499397</td>\n",
       "      <td>0.499096</td>\n",
       "      <td>0.738999</td>\n",
       "      <td>0.740506</td>\n",
       "      <td>0.000000</td>\n",
       "      <td>0.000000</td>\n",
       "    </tr>\n",
       "    <tr>\n",
       "      <th>12</th>\n",
       "      <td>16</td>\n",
       "      <td>1</td>\n",
       "      <td>0.499397</td>\n",
       "      <td>0.499096</td>\n",
       "      <td>0.751658</td>\n",
       "      <td>0.739602</td>\n",
       "      <td>0.000000</td>\n",
       "      <td>0.000000</td>\n",
       "    </tr>\n",
       "    <tr>\n",
       "      <th>1</th>\n",
       "      <td>1</td>\n",
       "      <td>6</td>\n",
       "      <td>0.732670</td>\n",
       "      <td>0.728752</td>\n",
       "      <td>0.739904</td>\n",
       "      <td>0.739602</td>\n",
       "      <td>0.763380</td>\n",
       "      <td>0.205634</td>\n",
       "    </tr>\n",
       "    <tr>\n",
       "      <th>8</th>\n",
       "      <td>11</td>\n",
       "      <td>1</td>\n",
       "      <td>0.741410</td>\n",
       "      <td>0.738698</td>\n",
       "      <td>0.739602</td>\n",
       "      <td>0.732369</td>\n",
       "      <td>0.833803</td>\n",
       "      <td>0.980282</td>\n",
       "    </tr>\n",
       "  </tbody>\n",
       "</table>\n",
       "</div>"
      ],
      "text/plain": [
       "    hidden-layer-size L1  hidden-layer-size L2  Train_score  Test_score  \\\n",
       "5                      6                     6     0.738095    0.721519   \n",
       "9                     11                     6     0.756178    0.752260   \n",
       "14                    16                    11     0.773357    0.758590   \n",
       "11                    11                    16     0.761302    0.749548   \n",
       "7                      6                    16     0.767932    0.759494   \n",
       "6                      6                    11     0.762508    0.747740   \n",
       "10                    11                    11     0.764316    0.775769   \n",
       "3                      1                    16     0.734479    0.728752   \n",
       "13                    16                     6     0.764919    0.757685   \n",
       "15                    16                    16     0.776974    0.759494   \n",
       "4                      6                     1     0.735986    0.736890   \n",
       "0                      1                     1     0.499397    0.499096   \n",
       "2                      1                    11     0.499397    0.499096   \n",
       "12                    16                     1     0.499397    0.499096   \n",
       "1                      1                     6     0.732670    0.728752   \n",
       "8                     11                     1     0.741410    0.738698   \n",
       "\n",
       "    Train_score_scaled  Test_score_scaled  recall_score  recall_scaled  \n",
       "5             0.773056           0.764919      0.738028       0.123944  \n",
       "9             0.778481           0.764014      0.788732       0.405634  \n",
       "14            0.788728           0.758590      0.774648       0.608451  \n",
       "11            0.782700           0.757685      0.760563       0.971831  \n",
       "7             0.773357           0.755877      0.777465       0.169014  \n",
       "6             0.773056           0.754973      0.769014       0.557746  \n",
       "10            0.777275           0.753165      0.746479       0.340845  \n",
       "3             0.749849           0.752260      0.771831       0.323944  \n",
       "13            0.789632           0.751356      0.754930       0.600000  \n",
       "15            0.795961           0.748644      0.718310       0.343662  \n",
       "4             0.752260           0.745931      0.839437       1.000000  \n",
       "0             0.737191           0.744123      0.000000       0.000000  \n",
       "2             0.738999           0.740506      0.000000       0.000000  \n",
       "12            0.751658           0.739602      0.000000       0.000000  \n",
       "1             0.739904           0.739602      0.763380       0.205634  \n",
       "8             0.739602           0.732369      0.833803       0.980282  "
      ]
     },
     "execution_count": 752,
     "metadata": {},
     "output_type": "execute_result"
    }
   ],
   "source": [
    "df.sort_values(by=[\"Test_score_scaled\",\"Train_score_scaled\"], ascending=False)"
   ]
  },
  {
   "cell_type": "code",
   "execution_count": 753,
   "id": "0d5047af",
   "metadata": {},
   "outputs": [],
   "source": [
    "#https://towardsdatascience.com/performance-metrics-confusion-matrix-precision-recall-and-f1-score-a8fe076a2262\n",
    "\n",
    "#The Confusion Matrix & Precision-Recall Tradeoff\n",
    "#https://www.qualtrics.com/support/stats-iq/analyses/regression-guides/confusion-matrix-precision-recall-tradeoff/"
   ]
  },
  {
   "cell_type": "code",
   "execution_count": 754,
   "id": "891ff6db",
   "metadata": {},
   "outputs": [],
   "source": [
    "# SMOTE \n",
    "#https://www.geeksforgeeks.org/ml-handling-imbalanced-data-with-smote-and-near-miss-algorithm-in-python/"
   ]
  },
  {
   "cell_type": "code",
   "execution_count": 755,
   "id": "d0a8536a-4b3c-4e7f-8aea-c2f5a99f45e9",
   "metadata": {},
   "outputs": [
    {
     "name": "stdout",
     "output_type": "stream",
     "text": [
      "                 Model               Best Parameters Train Score Test Score\n",
      "                   KNN            {'n_neighbors': 9}      0.7453     0.6935\n",
      "   Logistic Regression                    {'C': 0.1}      0.7589     0.7595\n",
      "         Random Forest         {'n_estimators': 200}      1.0000     0.7640\n",
      "Multi-layer Perceptron {'hidden_layer_sizes': (50,)}      0.7854     0.7667\n"
     ]
    }
   ],
   "source": [
    "\n",
    "# Define the models\n",
    "models = {\n",
    "    'KNN': KNeighborsClassifier(),\n",
    "    'Logistic Regression': LogisticRegression(max_iter=10000),\n",
    "    'Random Forest': RandomForestClassifier(),\n",
    "    'Multi-layer Perceptron': MLPClassifier(max_iter=10000),\n",
    "}\n",
    "\n",
    "# Define the parameters for grid search\n",
    "params = {\n",
    "    'KNN': {'n_neighbors': [3, 5, 7, 9]},\n",
    "    'Logistic Regression': {'C': [0.01, 0.1, 1, 10, 100]},\n",
    "    'Random Forest': {'n_estimators': [10, 50, 100, 200]},\n",
    "    'Multi-layer Perceptron': {'hidden_layer_sizes': [(50,), (100,), (150,)]},\n",
    "}\n",
    "\n",
    "# Create a list to hold the results\n",
    "results = []\n",
    "\n",
    "# Grid search\n",
    "for model in models.keys():\n",
    "    clf = GridSearchCV(models[model], params[model], cv=5)\n",
    "    clf.fit(X_train, y_train)\n",
    "\n",
    "    train_score = clf.score(X_train, y_train)\n",
    "    test_score = clf.score(X_test, y_test)\n",
    "\n",
    "    results.append({\n",
    "        \"Model\": model,\n",
    "        \"Best Parameters\": clf.best_params_,\n",
    "        \"Train Score\": train_score,\n",
    "        \"Test Score\": test_score,\n",
    "    })\n",
    "\n",
    "# Convert the list to DataFrame\n",
    "results_df = pd.DataFrame(results)\n",
    "\n",
    "# Set float formatting for Train Score and Test Score\n",
    "results_df['Train Score'] = results_df['Train Score'].map('{:.4f}'.format)\n",
    "results_df['Test Score'] = results_df['Test Score'].map('{:.4f}'.format)\n",
    "\n",
    "# Set max column width for Best Parameters\n",
    "pd.set_option('display.max_colwidth', 50)\n",
    "\n",
    "# Print the results DataFrame\n",
    "print(results_df.to_string(index=False))\n"
   ]
  },
  {
   "cell_type": "code",
   "execution_count": 756,
   "id": "dd995518-1776-4d37-a9b6-55dbe58bbbeb",
   "metadata": {},
   "outputs": [
    {
     "name": "stdout",
     "output_type": "stream",
     "text": [
      "                 Model                                     Best Parameters Train Score Test Score\n",
      "                   KNN           {'n_neighbors': 9, 'weights': 'distance'}      1.0000     0.6899\n",
      "   Logistic Regression                       {'C': 0.1, 'solver': 'lbfgs'}      0.7589     0.7595\n",
      "         Random Forest            {'max_depth': None, 'n_estimators': 200}      1.0000     0.7613\n",
      "Multi-layer Perceptron {'activation': 'relu', 'hidden_layer_sizes': (50,)}      0.7845     0.7568\n"
     ]
    }
   ],
   "source": [
    "# Define the models\n",
    "models = {\n",
    "    'KNN': KNeighborsClassifier(),\n",
    "    'Logistic Regression': LogisticRegression(max_iter=10000),\n",
    "    'Random Forest': RandomForestClassifier(),\n",
    "    'Multi-layer Perceptron': MLPClassifier(max_iter=10000),\n",
    "}\n",
    "\n",
    "# Define the parameters for grid search\n",
    "params = {\n",
    "    'KNN': {'n_neighbors': [3, 5, 7, 9], 'weights': ['uniform', 'distance']},\n",
    "    'Logistic Regression': {'C': [0.01, 0.1, 1, 10, 100], 'solver': ['liblinear', 'lbfgs']},\n",
    "    'Random Forest': {'n_estimators': [10, 50, 100, 200], 'max_depth': [None, 5, 10]},\n",
    "    'Multi-layer Perceptron': {'hidden_layer_sizes': [(50,), (100,), (150,)], 'activation': ['relu', 'tanh']},\n",
    "}\n",
    "\n",
    "# Rest of the code remains the same...\n",
    "# Create a list to hold the results\n",
    "results = []\n",
    "\n",
    "# Grid search\n",
    "for model in models.keys():\n",
    "    clf = GridSearchCV(models[model], params[model], cv=5)\n",
    "    clf.fit(X_train, y_train)\n",
    "\n",
    "    train_score = clf.score(X_train, y_train)\n",
    "    test_score = clf.score(X_test, y_test)\n",
    "\n",
    "    results.append({\n",
    "        \"Model\": model,\n",
    "        \"Best Parameters\": clf.best_params_,\n",
    "        \"Train Score\": train_score,\n",
    "        \"Test Score\": test_score,\n",
    "    })\n",
    "\n",
    "# Convert the list to DataFrame\n",
    "results_df = pd.DataFrame(results)\n",
    "\n",
    "# Set float formatting for Train Score and Test Score\n",
    "results_df['Train Score'] = results_df['Train Score'].map('{:.4f}'.format)\n",
    "results_df['Test Score'] = results_df['Test Score'].map('{:.4f}'.format)\n",
    "\n",
    "# Set max column width for Best Parameters\n",
    "pd.set_option('display.max_colwidth', 50)\n",
    "\n",
    "# Print the results DataFrame\n",
    "print(results_df.to_string(index=False))"
   ]
  },
  {
   "cell_type": "code",
   "execution_count": 757,
   "id": "d7b06ce6",
   "metadata": {},
   "outputs": [],
   "source": [
    "# Split your dataset into training and testing sets\n",
    "#X_train, X_test, y_train, y_test = train_test_split(x, y, test_size=0.2, random_state=42)\n",
    "\n",
    "# Apply SMOTE to the training data\n",
    "smote = SMOTE(random_state=42)\n",
    "X_train_resampled, y_train_resampled = smote.fit_resample(X_train, y_train)"
   ]
  },
  {
   "cell_type": "code",
   "execution_count": 758,
   "id": "17c3c3e5-f762-4219-849b-cc942b72a000",
   "metadata": {},
   "outputs": [
    {
     "name": "stdout",
     "output_type": "stream",
     "text": [
      "Accuracy on training set: 0.816\n",
      "Accuracy on test set: 0.708\n"
     ]
    }
   ],
   "source": [
    "\n",
    "# Apply SMOTE to the training data\n",
    "smote = SMOTE(random_state=42)\n",
    "X_train_resampled, y_train_resampled = smote.fit_resample(X_train, y_train)\n",
    "\n",
    "# Create an MLP classifier\n",
    "mlp = MLPClassifier(max_iter=1000)\n",
    "\n",
    "# Train the MLP classifier on the resampled training data\n",
    "mlp.fit(X_train_resampled, y_train_resampled)\n",
    "\n",
    "# Evaluate the model's accuracy on the training set\n",
    "train_accuracy = mlp.score(X_train_resampled, y_train_resampled)\n",
    "\n",
    "# Evaluate the model's accuracy on the test set\n",
    "test_accuracy = mlp.score(X_test, y_test)\n",
    "\n",
    "# Print the training and test accuracies\n",
    "print(\"Accuracy on training set: {:.3f}\".format(train_accuracy))\n",
    "print(\"Accuracy on test set: {:.3f}\".format(test_accuracy))\n"
   ]
  },
  {
   "cell_type": "code",
   "execution_count": 759,
   "id": "1d5af3e3",
   "metadata": {},
   "outputs": [
    {
     "name": "stdout",
     "output_type": "stream",
     "text": [
      "Before SMOTE:\n",
      "Graduate    1657\n",
      "Dropout     1066\n",
      "Enrolled     595\n",
      "Name: Target, dtype: int64\n",
      "\n",
      "After SMOTE:\n",
      "Graduate    1657\n",
      "Dropout     1657\n",
      "Enrolled    1657\n",
      "Name: Target, dtype: int64\n"
     ]
    }
   ],
   "source": [
    "# Print the value counts of the target variable before and after applying SMOTE\n",
    "print(\"Before SMOTE:\")\n",
    "print(pd.Series(y_train).value_counts())\n",
    "\n",
    "print(\"\\nAfter SMOTE:\")\n",
    "print(pd.Series(y_train_resampled).value_counts())"
   ]
  },
  {
   "cell_type": "markdown",
   "id": "c400308e",
   "metadata": {},
   "source": [
    "## Optimised MPL Parameters "
   ]
  },
  {
   "cell_type": "code",
   "execution_count": 760,
   "id": "714f516e",
   "metadata": {},
   "outputs": [
    {
     "data": {
      "image/png": "[encoded data removed]",
      "text/plain": [
       "<Figure size 432x288 with 2 Axes>"
      ]
     },
     "metadata": {
      "needs_background": "light"
     },
     "output_type": "display_data"
    },
    {
     "name": "stdout",
     "output_type": "stream",
     "text": [
      "              precision    recall  f1-score   support\n",
      "\n",
      "    Graduate       0.83      0.82      0.83       552\n",
      "     Dropout       0.81      0.73      0.77       355\n",
      "    Enrolled       0.42      0.49      0.45       199\n",
      "\n",
      "    accuracy                           0.74      1106\n",
      "   macro avg       0.69      0.68      0.68      1106\n",
      "weighted avg       0.75      0.74      0.74      1106\n",
      "\n"
     ]
    }
   ],
   "source": [
    "# Make predictions on the test data\n",
    "mlp = MLPClassifier(hidden_layer_sizes = 56, max_iter=1000) # we selcted hidden_layer_sizes = 56\n",
    "mlp.fit(X_train_resampled, y_train_resampled) # train optimised model \n",
    "y_pred = mlp.predict(X_test) # its the same test data, we didnt change it \n",
    "plot_confusion_matrix( y_test, y_pred, 'confusion-mlpSMOTE.png')\n",
    "print(classification_report(y_test,y_pred,labels=class_labels))"
   ]
  },
  {
   "cell_type": "code",
   "execution_count": 761,
   "id": "982d3861-3231-4644-bb46-6e720d941f69",
   "metadata": {},
   "outputs": [
    {
     "name": "stdout",
     "output_type": "stream",
     "text": [
      "                    Model  Training Accuracy  Test Accuracy\n",
      "0     k-Nearest Neighbors           0.772883       0.603978\n",
      "1     Logistic Regression           0.725609       0.725136\n",
      "2           Random Forest           0.737679       0.736890\n",
      "3  Multi-Layer Perceptron           0.827801       0.698915\n"
     ]
    }
   ],
   "source": [
    "from sklearn.neighbors import KNeighborsClassifier\n",
    "from sklearn.linear_model import LogisticRegression\n",
    "from sklearn.ensemble import RandomForestClassifier\n",
    "from sklearn.neural_network import MLPClassifier\n",
    "from sklearn.metrics import accuracy_score\n",
    "import pandas as pd\n",
    "\n",
    "# Define the models with the given parameters\n",
    "knn = KNeighborsClassifier(n_neighbors=11, weights='uniform')\n",
    "lr = LogisticRegression(C=100, max_iter=1000)\n",
    "rf = RandomForestClassifier(n_estimators=380,random_state=2, max_depth=5)\n",
    "mlp = MLPClassifier(hidden_layer_sizes=(96,), max_iter=1000)\n",
    "\n",
    "models = [('k-Nearest Neighbors', knn), ('Logistic Regression', lr), \n",
    "          ('Random Forest', rf), ('Multi-Layer Perceptron', mlp)]\n",
    "\n",
    "# Initialize a list to store the results\n",
    "results = []\n",
    "\n",
    "# Fit the models and calculate accuracy\n",
    "for name, model in models:\n",
    "    model.fit(X_train_resampled, y_train_resampled)\n",
    "    train_preds = model.predict(X_train_resampled)\n",
    "    test_preds = model.predict(X_test)\n",
    "    train_acc = accuracy_score(y_train_resampled, train_preds)\n",
    "    test_acc = accuracy_score(y_test, test_preds)\n",
    "    results.append(pd.DataFrame({'Model': [name], \n",
    "                                 'Training Accuracy': [train_acc], \n",
    "                                 'Test Accuracy': [test_acc]}))\n",
    "\n",
    "# Concatenate all results into a single DataFrame\n",
    "results_df = pd.concat(results, ignore_index=True)\n",
    "\n",
    "print(results_df)\n"
   ]
  },
  {
   "cell_type": "code",
   "execution_count": 762,
   "id": "d8ebc768-62f7-4b78-a951-4ee95df6bd2c",
   "metadata": {},
   "outputs": [
    {
     "name": "stdout",
     "output_type": "stream",
     "text": [
      "\n",
      "Classification Report for k-Nearest Neighbors:\n",
      "              precision    recall  f1-score   support\n",
      "\n",
      "    Graduate       0.77      0.60      0.68       552\n",
      "     Dropout       0.76      0.63      0.69       355\n",
      "    Enrolled       0.29      0.55      0.38       199\n",
      "\n",
      "    accuracy                           0.60      1106\n",
      "   macro avg       0.61      0.60      0.58      1106\n",
      "weighted avg       0.68      0.60      0.63      1106\n",
      "\n",
      "\n",
      "Classification Report for Logistic Regression:\n",
      "              precision    recall  f1-score   support\n",
      "\n",
      "    Graduate       0.83      0.78      0.80       552\n",
      "     Dropout       0.92      0.68      0.78       355\n",
      "    Enrolled       0.40      0.64      0.49       199\n",
      "\n",
      "    accuracy                           0.73      1106\n",
      "   macro avg       0.71      0.70      0.69      1106\n",
      "weighted avg       0.78      0.73      0.74      1106\n",
      "\n",
      "\n",
      "Classification Report for Random Forest:\n",
      "              precision    recall  f1-score   support\n",
      "\n",
      "    Graduate       0.82      0.83      0.82       552\n",
      "     Dropout       0.86      0.67      0.75       355\n",
      "    Enrolled       0.44      0.61      0.51       199\n",
      "\n",
      "    accuracy                           0.74      1106\n",
      "   macro avg       0.71      0.70      0.70      1106\n",
      "weighted avg       0.77      0.74      0.74      1106\n",
      "\n",
      "\n",
      "Classification Report for Multi-Layer Perceptron:\n",
      "              precision    recall  f1-score   support\n",
      "\n",
      "    Graduate       0.83      0.81      0.82       552\n",
      "     Dropout       0.87      0.68      0.76       355\n",
      "    Enrolled       0.41      0.60      0.49       199\n",
      "\n",
      "    accuracy                           0.73      1106\n",
      "   macro avg       0.70      0.70      0.69      1106\n",
      "weighted avg       0.77      0.73      0.74      1106\n",
      "\n"
     ]
    }
   ],
   "source": [
    "from sklearn.metrics import classification_report\n",
    "\n",
    "# Fit the models and generate classification reports\n",
    "for name, model in models:\n",
    "    model.fit(X_train_resampled, y_train_resampled)\n",
    "    test_preds = model.predict(X_test)\n",
    "\n",
    "    # Classification report\n",
    "    print(f\"\\nClassification Report for {name}:\")\n",
    "    print(classification_report(y_test, test_preds,labels=class_labels))\n"
   ]
  }
 ],
 "metadata": {
  "kernelspec": {
   "display_name": "Python 3 (ipykernel)",
   "language": "python",
   "name": "python3"
  },
  "language_info": {
   "codemirror_mode": {
    "name": "ipython",
    "version": 3
   },
   "file_extension": ".py",
   "mimetype": "text/x-python",
   "name": "python",
   "nbconvert_exporter": "python",
   "pygments_lexer": "ipython3",
   "version": "3.9.12"
  }
 },
 "nbformat": 4,
 "nbformat_minor": 5
}
